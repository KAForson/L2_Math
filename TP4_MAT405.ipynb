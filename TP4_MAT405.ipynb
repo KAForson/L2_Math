{
 "cells": [
  {
   "cell_type": "markdown",
   "id": "d9473450",
   "metadata": {},
   "source": [
    "# TP4 - Diagonalisation et SVD \n",
    "\n",
    "#### Les objectifs de ce quatrième TP sont de se familiariser avec\n",
    " - la diagonalisation de matrices (partie 1) - durée recommandée 1h30\n",
    " - la décomposition en valeurs singulières - SVD - et ses applications vues en cours (partie 2) - durée recommandée 1h30\n",
    "\n",
    "#### Méthodologie\n",
    " - exécuter les cellules pour comprendre ce qui est programmé et comment\n",
    " - répondre aux questions en refaisant par vous-même\n",
    " - prendre le temps de travailler en dehors des séances pour assimiler les connaissances"
   ]
  },
  {
   "cell_type": "code",
   "execution_count": 29,
   "id": "108b0857",
   "metadata": {},
   "outputs": [],
   "source": [
    "## Importation des librairies nécessaires au TP\n",
    "import numpy as np\n",
    "import matplotlib.pyplot as plt\n",
    "from scipy.linalg import svd"
   ]
  },
  {
   "cell_type": "markdown",
   "id": "e458d291",
   "metadata": {},
   "source": [
    "# 1 - La diagonalisation par l'exemple"
   ]
  },
  {
   "cell_type": "markdown",
   "id": "eb621774",
   "metadata": {},
   "source": [
    "## 1.1 - Un exemple en exercice corrigé\n",
    "\n",
    "On considère la matrice\n",
    "$$\n",
    "A=\\displaystyle \\left[\\begin{array}{ccc}\n",
    "1&2&2\\\\\n",
    "0&0&0\\\\\n",
    "0&2&2\\\\\n",
    "\\end{array}\\right]\n",
    "$$\n",
    "\n",
    "pour laquelle nous allons numériquement\n",
    "\n",
    "1. déterminer :\n",
    "    - les éléments propres\n",
    "    - les matrices $P$ (inversible) et $D$ (diagonale) requises pour la diagonalisation $A= P\\,D\\,P^{-1}$\n",
    "\n",
    "\n",
    "2. vérifer un certain nombre de propriétés théoriques   \n",
    "\n",
    "Il s'agit de la matrice de l'[exercice corrigé](https://moodle.caseine.org/pluginfile.php/143505/mod_resource/content/0/diagonalisation.pdf)\n",
    "proposé sur le caséine de l'UE et pour laquelle toutes les questions ont été traitées analytiquement.\n",
    "Vous pourrez donc comparer les résultats analytiques avec les résultats numériques."
   ]
  },
  {
   "cell_type": "markdown",
   "id": "4c09ac24",
   "metadata": {},
   "source": [
    "#### En suivant la méthode analytique étape par étape"
   ]
  },
  {
   "cell_type": "code",
   "execution_count": 30,
   "id": "224c51ba",
   "metadata": {},
   "outputs": [
    {
     "name": "stdout",
     "output_type": "stream",
     "text": [
      "A = \n",
      "[[1 2 2]\n",
      " [0 0 0]\n",
      " [0 2 2]]\n"
     ]
    }
   ],
   "source": [
    "## Matrice A :\n",
    "#################\n",
    "A = np.array([[1,2,2],[0,0,0],[0,2,2]])\n",
    "n = np.shape(A)[0]\n",
    "print(\"A = \\n{}\".format(A))"
   ]
  },
  {
   "cell_type": "code",
   "execution_count": 31,
   "id": "ee7a36a9",
   "metadata": {},
   "outputs": [],
   "source": [
    "## Ne pas chercher à comprendre cette fonction ##\n",
    "#################################################\n",
    "## Elle sert à afficher un polynome avec les coefficients des puissances de x\n",
    "def Polynome_a_afficher(P):\n",
    "    res = \"\"\n",
    "    n = len(P)\n",
    "    for i in range(len(P)):\n",
    "        tmp = \"(\" + str(P[i]) + \")x^\" + str(n-1-i)\n",
    "        res = res + tmp\n",
    "        if i < n-1 :\n",
    "            res = res + \" + \"\n",
    "    return res"
   ]
  },
  {
   "cell_type": "code",
   "execution_count": 32,
   "id": "5cc042c9",
   "metadata": {},
   "outputs": [
    {
     "name": "stdout",
     "output_type": "stream",
     "text": [
      "Les coefficients des puissances de x décroissantes du polynome sont :[-1.  3. -2. -0.]\n",
      "\n",
      "Le polynôme est P_A(x) = (-1.0)x^3 + (3.0)x^2 + (-2.0)x^1 + (-0.0)x^0\n",
      "\n",
      "Les 3 racines du polynôme caractéristique sont :\n",
      "racine 1 : 2.0\n",
      "racine 2 : 1.0\n",
      "racine 3 : 0.0\n"
     ]
    }
   ],
   "source": [
    "## Polynôme caractéristique P_A = det(A-x*Id) et ses racines\n",
    "###############################################################\n",
    "##\n",
    "## Calcul des coefficients du polynôme caractéristique dans la base canonique\n",
    "P_A = - np.poly(A)\n",
    "print(\"Les coefficients des puissances de x décroissantes du polynome sont :{}\\n\".format(P_A))\n",
    "## Affichage du polynôme caractéristique \n",
    "print(\"Le polynôme est P_A(x) = {}\\n\".format(Polynome_a_afficher(P_A)))\n",
    "##\n",
    "## Calcul des racines du polynôme \n",
    "racines_P_A = np.roots(P_A)\n",
    "## Affichage des racines du polynomes\n",
    "deg_P_A = len(racines_P_A)\n",
    "print(\"Les {} racines du polynôme caractéristique sont :\".format(deg_P_A))\n",
    "for i in range(deg_P_A):\n",
    "    print(\"racine {} : {}\".format(i+1,racines_P_A[i]))"
   ]
  },
  {
   "cell_type": "code",
   "execution_count": 33,
   "id": "638eb0a8",
   "metadata": {},
   "outputs": [
    {
     "name": "stdout",
     "output_type": "stream",
     "text": [
      "Les 3 valeurs propres de la matrice A sont :\n",
      "Valeur propre 1 : 1.0\n",
      "Valeur propre 2 : 2.0\n",
      "Valeur propre 3 : 0.0\n"
     ]
    }
   ],
   "source": [
    "## Valeurs propres de la matrice A\n",
    "##################################\n",
    "valeurs_propres = np.linalg.eigvals(A)\n",
    "print(\"Les {} valeurs propres de la matrice A sont :\".format(len(valeurs_propres)))\n",
    "for i in range(len(valeurs_propres)):\n",
    "    print(\"Valeur propre {} : {}\".format(i+1,valeurs_propres[i]))\n",
    "## ATTENTION\n",
    "## Remarquez que l'ordre n'est pas nécessairement le même que celui que nous avons choisi analytiquement... !!    "
   ]
  },
  {
   "cell_type": "markdown",
   "id": "5fc07f8f",
   "metadata": {},
   "source": [
    "##### Questions\n",
    "- Que cherchent à faire les commandes de la cellule ci-dessous?\n",
    "- pourquoi l'exécution donne-t-elle le message d'erreur \"Singular matrix\" (NB : \"singulière\" veut dire \"non-inversible\")"
   ]
  },
  {
   "cell_type": "code",
   "execution_count": 34,
   "id": "43b39894",
   "metadata": {},
   "outputs": [
    {
     "name": "stdout",
     "output_type": "stream",
     "text": [
      "M = \n",
      "[[-1.  2.  2.]\n",
      " [ 0. -2.  0.]\n",
      " [ 0.  2.  0.]]\n"
     ]
    },
    {
     "ename": "LinAlgError",
     "evalue": "Singular matrix",
     "output_type": "error",
     "traceback": [
      "\u001b[0;31m---------------------------------------------------------------------------\u001b[0m",
      "\u001b[0;31mLinAlgError\u001b[0m                               Traceback (most recent call last)",
      "\u001b[0;32m/tmp/ipykernel_31/634110701.py\u001b[0m in \u001b[0;36m<module>\u001b[0;34m\u001b[0m\n\u001b[1;32m      6\u001b[0m \u001b[0mB\u001b[0m\u001b[0;34m=\u001b[0m\u001b[0mnp\u001b[0m\u001b[0;34m.\u001b[0m\u001b[0mzeros\u001b[0m\u001b[0;34m(\u001b[0m\u001b[0mn\u001b[0m\u001b[0;34m)\u001b[0m\u001b[0;34m\u001b[0m\u001b[0;34m\u001b[0m\u001b[0m\n\u001b[1;32m      7\u001b[0m \u001b[0mprint\u001b[0m\u001b[0;34m(\u001b[0m\u001b[0;34m\"M = \\n{}\"\u001b[0m\u001b[0;34m.\u001b[0m\u001b[0mformat\u001b[0m\u001b[0;34m(\u001b[0m\u001b[0mM\u001b[0m\u001b[0;34m)\u001b[0m\u001b[0;34m)\u001b[0m\u001b[0;34m\u001b[0m\u001b[0;34m\u001b[0m\u001b[0m\n\u001b[0;32m----> 8\u001b[0;31m \u001b[0mnp\u001b[0m\u001b[0;34m.\u001b[0m\u001b[0mlinalg\u001b[0m\u001b[0;34m.\u001b[0m\u001b[0msolve\u001b[0m\u001b[0;34m(\u001b[0m\u001b[0mM\u001b[0m\u001b[0;34m,\u001b[0m \u001b[0mB\u001b[0m\u001b[0;34m)\u001b[0m\u001b[0;34m\u001b[0m\u001b[0;34m\u001b[0m\u001b[0m\n\u001b[0m\u001b[1;32m      9\u001b[0m \u001b[0;34m\u001b[0m\u001b[0m\n\u001b[1;32m     10\u001b[0m \u001b[0;31m#Ici nous cherchons les vecteurs propres en fonction des valeurs de landa où nos créons la matrice P\u001b[0m\u001b[0;34m\u001b[0m\u001b[0;34m\u001b[0m\u001b[0m\n",
      "\u001b[0;32m<__array_function__ internals>\u001b[0m in \u001b[0;36msolve\u001b[0;34m(*args, **kwargs)\u001b[0m\n",
      "\u001b[0;32m/opt/conda/lib/python3.9/site-packages/numpy/linalg/linalg.py\u001b[0m in \u001b[0;36msolve\u001b[0;34m(a, b)\u001b[0m\n\u001b[1;32m    391\u001b[0m     \u001b[0msignature\u001b[0m \u001b[0;34m=\u001b[0m \u001b[0;34m'DD->D'\u001b[0m \u001b[0;32mif\u001b[0m \u001b[0misComplexType\u001b[0m\u001b[0;34m(\u001b[0m\u001b[0mt\u001b[0m\u001b[0;34m)\u001b[0m \u001b[0;32melse\u001b[0m \u001b[0;34m'dd->d'\u001b[0m\u001b[0;34m\u001b[0m\u001b[0;34m\u001b[0m\u001b[0m\n\u001b[1;32m    392\u001b[0m     \u001b[0mextobj\u001b[0m \u001b[0;34m=\u001b[0m \u001b[0mget_linalg_error_extobj\u001b[0m\u001b[0;34m(\u001b[0m\u001b[0m_raise_linalgerror_singular\u001b[0m\u001b[0;34m)\u001b[0m\u001b[0;34m\u001b[0m\u001b[0;34m\u001b[0m\u001b[0m\n\u001b[0;32m--> 393\u001b[0;31m     \u001b[0mr\u001b[0m \u001b[0;34m=\u001b[0m \u001b[0mgufunc\u001b[0m\u001b[0;34m(\u001b[0m\u001b[0ma\u001b[0m\u001b[0;34m,\u001b[0m \u001b[0mb\u001b[0m\u001b[0;34m,\u001b[0m \u001b[0msignature\u001b[0m\u001b[0;34m=\u001b[0m\u001b[0msignature\u001b[0m\u001b[0;34m,\u001b[0m \u001b[0mextobj\u001b[0m\u001b[0;34m=\u001b[0m\u001b[0mextobj\u001b[0m\u001b[0;34m)\u001b[0m\u001b[0;34m\u001b[0m\u001b[0;34m\u001b[0m\u001b[0m\n\u001b[0m\u001b[1;32m    394\u001b[0m \u001b[0;34m\u001b[0m\u001b[0m\n\u001b[1;32m    395\u001b[0m     \u001b[0;32mreturn\u001b[0m \u001b[0mwrap\u001b[0m\u001b[0;34m(\u001b[0m\u001b[0mr\u001b[0m\u001b[0;34m.\u001b[0m\u001b[0mastype\u001b[0m\u001b[0;34m(\u001b[0m\u001b[0mresult_t\u001b[0m\u001b[0;34m,\u001b[0m \u001b[0mcopy\u001b[0m\u001b[0;34m=\u001b[0m\u001b[0;32mFalse\u001b[0m\u001b[0;34m)\u001b[0m\u001b[0;34m)\u001b[0m\u001b[0;34m\u001b[0m\u001b[0;34m\u001b[0m\u001b[0m\n",
      "\u001b[0;32m/opt/conda/lib/python3.9/site-packages/numpy/linalg/linalg.py\u001b[0m in \u001b[0;36m_raise_linalgerror_singular\u001b[0;34m(err, flag)\u001b[0m\n\u001b[1;32m     86\u001b[0m \u001b[0;34m\u001b[0m\u001b[0m\n\u001b[1;32m     87\u001b[0m \u001b[0;32mdef\u001b[0m \u001b[0m_raise_linalgerror_singular\u001b[0m\u001b[0;34m(\u001b[0m\u001b[0merr\u001b[0m\u001b[0;34m,\u001b[0m \u001b[0mflag\u001b[0m\u001b[0;34m)\u001b[0m\u001b[0;34m:\u001b[0m\u001b[0;34m\u001b[0m\u001b[0;34m\u001b[0m\u001b[0m\n\u001b[0;32m---> 88\u001b[0;31m     \u001b[0;32mraise\u001b[0m \u001b[0mLinAlgError\u001b[0m\u001b[0;34m(\u001b[0m\u001b[0;34m\"Singular matrix\"\u001b[0m\u001b[0;34m)\u001b[0m\u001b[0;34m\u001b[0m\u001b[0;34m\u001b[0m\u001b[0m\n\u001b[0m\u001b[1;32m     89\u001b[0m \u001b[0;34m\u001b[0m\u001b[0m\n\u001b[1;32m     90\u001b[0m \u001b[0;32mdef\u001b[0m \u001b[0m_raise_linalgerror_nonposdef\u001b[0m\u001b[0;34m(\u001b[0m\u001b[0merr\u001b[0m\u001b[0;34m,\u001b[0m \u001b[0mflag\u001b[0m\u001b[0;34m)\u001b[0m\u001b[0;34m:\u001b[0m\u001b[0;34m\u001b[0m\u001b[0;34m\u001b[0m\u001b[0m\n",
      "\u001b[0;31mLinAlgError\u001b[0m: Singular matrix"
     ]
    }
   ],
   "source": [
    "## Vecteurs propres de la matrice A\n",
    "###################################\n",
    "## Pour la première valeur propre \n",
    "n = deg_P_A\n",
    "M=A-racines_P_A[0]*np.eye(n)\n",
    "B=np.zeros(n)\n",
    "print(\"M = \\n{}\".format(M))\n",
    "np.linalg.solve(M, B)\n",
    "\n",
    "#Ici nous cherchons les vecteurs propres en fonction des valeurs de landa où nos créons la matrice P\n",
    "#Nous reçevons le message \"Singular Matrix\", car c'est une matrice liée; le déterminant = 0\n",
    "#Cette matrice est fait pour calculer une resultat unique, mais comme la déterminant du matrice est égale à 0, \n",
    "#nous avons une infinité de vecteurs possibles"
   ]
  },
  {
   "cell_type": "markdown",
   "id": "16d8c918",
   "metadata": {},
   "source": [
    "#### En utilisant la commande \"eig\" de la librairie numpy (que nous ferons toujours par la suite)"
   ]
  },
  {
   "cell_type": "code",
   "execution_count": 35,
   "id": "6cc70158",
   "metadata": {},
   "outputs": [
    {
     "name": "stdout",
     "output_type": "stream",
     "text": [
      "Les valeurs propres de A sont [1. 2. 0.]\n",
      "Les vecteurs propres (en colonnes) de A sont\n",
      "[[ 1.          0.89442719  0.        ]\n",
      " [ 0.          0.          0.70710678]\n",
      " [ 0.          0.4472136  -0.70710678]]\n"
     ]
    }
   ],
   "source": [
    "## Calcul des éléments propres de la matrice A\n",
    "###############################################\n",
    "valeurs_propres,vecteurs_propres = np.linalg.eig(A)\n",
    "print(\"Les valeurs propres de A sont {}\".format(valeurs_propres))\n",
    "print(\"Les vecteurs propres (en colonnes) de A sont\\n{}\".format(vecteurs_propres))"
   ]
  },
  {
   "cell_type": "markdown",
   "id": "2e9ad740",
   "metadata": {},
   "source": [
    "##### Question\n",
    "A quoi correspond la vérification ci-dessous?"
   ]
  },
  {
   "cell_type": "code",
   "execution_count": 36,
   "id": "42e7701d",
   "metadata": {},
   "outputs": [
    {
     "name": "stdout",
     "output_type": "stream",
     "text": [
      "A*v = [1. 0. 0.]\n",
      "lambda*v = [1. 0. 0.]\n"
     ]
    }
   ],
   "source": [
    "## Un exemple de vérification :\n",
    "u_1 = vecteurs_propres[:, 0]\n",
    "lambda_1 = valeurs_propres[0]\n",
    "print(\"A*v = {}\".format(A@u_1))\n",
    "print(\"lambda*v = {}\".format(lambda_1*u_1))\n",
    "#Nous verifions que A fois le vecteur v = à landa fois le vecteur v\n",
    "#et donc (A-landa*I)*v = 0 (vecteru nulle)\n",
    "#Ceci veut donc dire que les vecteurs v déterminé sont juste"
   ]
  },
  {
   "cell_type": "markdown",
   "id": "5eddc3db",
   "metadata": {},
   "source": [
    "##### Question\n",
    "Expliquer les valeurs affichées ci-dessous et leur signification"
   ]
  },
  {
   "cell_type": "code",
   "execution_count": 37,
   "id": "ccf9a309",
   "metadata": {},
   "outputs": [
    {
     "name": "stdout",
     "output_type": "stream",
     "text": [
      "0.8944271909999159\n",
      "1.0\n"
     ]
    }
   ],
   "source": [
    "u_2 = vecteurs_propres[:, 1]\n",
    "print(np.dot(u_1,u_2))\n",
    "print(np.round(np.linalg.norm(u_2,2)))\n",
    "## remarque : la commande np.round permet d'avoir un arrondi d'une valeur réelle\n",
    "?np.round\n",
    "#We rounded the decimal number up"
   ]
  },
  {
   "cell_type": "code",
   "execution_count": 38,
   "id": "32d31467",
   "metadata": {},
   "outputs": [
    {
     "name": "stdout",
     "output_type": "stream",
     "text": [
      "1.0\n"
     ]
    }
   ],
   "source": [
    "print(np.round(0.5837478201))"
   ]
  },
  {
   "cell_type": "code",
   "execution_count": 39,
   "id": "a6b03117",
   "metadata": {},
   "outputs": [
    {
     "name": "stdout",
     "output_type": "stream",
     "text": [
      "D = \n",
      " [[1. 0. 0.]\n",
      " [0. 2. 0.]\n",
      " [0. 0. 0.]]\n",
      "P = \n",
      " [[ 1.          0.89442719  0.        ]\n",
      " [ 0.          0.          0.70710678]\n",
      " [ 0.          0.4472136  -0.70710678]]\n"
     ]
    }
   ],
   "source": [
    "## Diagonalisation de la matrice A \n",
    "###################################\n",
    "## Une fois effectuée la commande \"valeurs_propres,vecteurs_propres = np.linalg.eig(A)\"\n",
    "D = np.diag(valeurs_propres)\n",
    "P = vecteurs_propres\n",
    "print(\"D = \\n {}\".format(D))\n",
    "print(\"P = \\n {}\".format(P))\n",
    "#Nous obtenons la matrice D des valeurs propres et la matrice P des vecteurs propres"
   ]
  },
  {
   "cell_type": "markdown",
   "id": "e1bbc87f",
   "metadata": {},
   "source": [
    "##### Questions\n",
    "A quoi correspondent les deux vérifications ci-dessous?"
   ]
  },
  {
   "cell_type": "code",
   "execution_count": 40,
   "id": "44c6e1a8",
   "metadata": {},
   "outputs": [
    {
     "name": "stdout",
     "output_type": "stream",
     "text": [
      "-0.3162277660168379 est différent de 0\n",
      "[[0. 0. 0.]\n",
      " [0. 0. 0.]\n",
      " [0. 0. 0.]]\n"
     ]
    }
   ],
   "source": [
    "## Un exemple de vérification :\n",
    "print(\"{} est différent de 0\".format(np.linalg.det(P)))\n",
    "## Un exemple de vérification :\n",
    "print(A-P@D@np.linalg.inv(P))\n",
    "#Comme le determinant(P) est different de 0, P est donc inversible.\n",
    "#D'apres la formule de diagonalisation, A - P*D*inv(P) doit être égale à une matrice nulle\n",
    "#C'est notre cas"
   ]
  },
  {
   "cell_type": "markdown",
   "id": "e20b153e",
   "metadata": {},
   "source": [
    "##### Questions\n",
    "A quoi correspondent les deux vérifications ci-dessous?"
   ]
  },
  {
   "cell_type": "code",
   "execution_count": 46,
   "id": "74a8ca92",
   "metadata": {},
   "outputs": [
    {
     "name": "stdout",
     "output_type": "stream",
     "text": [
      "0.0 = 0.0\n",
      "3 = 3.0\n"
     ]
    }
   ],
   "source": [
    "## Un exemple de vérification :\n",
    "print(\"{} = {}\".format(np.linalg.det(A),np.linalg.det(D)))\n",
    "#Le déterminant du matrice A = déterminant du matrice(D)\n",
    "#Déterminant = produit des valeurs propres\n",
    "\n",
    "## Un exemple de vérification :\n",
    "print(\"{} = {}\".format(np.trace(A),np.trace(D)))\n",
    "#La trace du matrice A = trace du matrice D\n",
    "#Trace = somme des valeurs propres"
   ]
  },
  {
   "cell_type": "markdown",
   "id": "8c2dbaa7",
   "metadata": {},
   "source": [
    "## 1.2 -------- EXERCICE - Diagonalisation de la matrice de Hilbert d'ordre 4\n",
    "On rappelle (voir TP2) que la matrice de Hilbert d'ordre $n=4$ est\n",
    "$$\n",
    "\\displaystyle \n",
    "H=\\left(\n",
    "\\begin{array}{cccc}\n",
    "1 & 1/2 & 1/3 & 1/4\\\\\n",
    "1/2 & 1/3 & 1/4 & 1/5\\\\\n",
    "1/3 & 1/4 & 1/5 & 1/6\\\\\n",
    "1/4 & 1/5 & 1/6 & 1/7\\\\\n",
    "\\end{array}\n",
    "\\right)\n",
    "$$"
   ]
  },
  {
   "cell_type": "markdown",
   "id": "267ae4b5",
   "metadata": {},
   "source": [
    "#### Question 1\n",
    "Quelle propriété de la matrice $H$ permet de justifier sans calcul qu'elle est diagonalisable?"
   ]
  },
  {
   "cell_type": "code",
   "execution_count": null,
   "id": "882d05f9",
   "metadata": {},
   "outputs": [],
   "source": [
    "# H est symétrique"
   ]
  },
  {
   "cell_type": "markdown",
   "id": "1f7813b4",
   "metadata": {},
   "source": [
    "#### Question 2\n",
    "Calculer numériquement les valeurs propres de la matrice $H$"
   ]
  },
  {
   "cell_type": "code",
   "execution_count": 62,
   "id": "d39f5a80",
   "metadata": {},
   "outputs": [
    {
     "name": "stdout",
     "output_type": "stream",
     "text": [
      "H = \n",
      "[[1.         0.5        0.33333333 0.25      ]\n",
      " [0.5        0.33333333 0.25       0.2       ]\n",
      " [0.33333333 0.25       0.2        0.16666667]\n",
      " [0.25       0.2        0.16666667 0.14285714]]\n",
      "Les valeurs propres de H sont [1.50021428e+00 1.69141220e-01 6.73827361e-03 9.67023040e-05]\n"
     ]
    }
   ],
   "source": [
    "H = np.array([[1,1/2,1/3,1/4],[1/2,1/3,1/4,1/5],[1/3,1/4,1/5,1/6],[1/4,1/5,1/6,1/7]])\n",
    "print(\"H = \\n{}\".format(H))\n",
    "\n",
    "valeurs_propres,vecteurs_propres = np.linalg.eig(H)\n",
    "print(\"Les valeurs propres de H sont {}\".format(valeurs_propres))\n",
    "#print(\"Les vecteurs propres (en colonnes) de A sont\\n{}\".format(vecteurs_propres))\n"
   ]
  },
  {
   "cell_type": "markdown",
   "id": "ed1fcb6e",
   "metadata": {},
   "source": [
    "#### Question 3\n",
    "Déterminer numériquement les matrices $P$ et $D$ telles que $H= P\\,D\\,P^{-1}$"
   ]
  },
  {
   "cell_type": "code",
   "execution_count": 65,
   "id": "4a883841",
   "metadata": {},
   "outputs": [
    {
     "name": "stdout",
     "output_type": "stream",
     "text": [
      "D1 = \n",
      " [[1.50021428e+00 0.00000000e+00 0.00000000e+00 0.00000000e+00]\n",
      " [0.00000000e+00 1.69141220e-01 0.00000000e+00 0.00000000e+00]\n",
      " [0.00000000e+00 0.00000000e+00 6.73827361e-03 0.00000000e+00]\n",
      " [0.00000000e+00 0.00000000e+00 0.00000000e+00 9.67023040e-05]]\n",
      "P1 = \n",
      " [[ 0.79260829  0.5820757   0.17918629 -0.02919332]\n",
      " [ 0.45192312 -0.37050219 -0.74191779  0.32871206]\n",
      " [ 0.3224164  -0.50957863  0.10022814 -0.79141115]\n",
      " [ 0.25216117 -0.51404827  0.63828253  0.51455275]]\n"
     ]
    }
   ],
   "source": [
    "D1 = np.diag(valeurs_propres)\n",
    "P1 = vecteurs_propres\n",
    "print(\"D1 = \\n {}\".format(D1))\n",
    "print(\"P1 = \\n {}\".format(P1))\n",
    "\n"
   ]
  },
  {
   "cell_type": "markdown",
   "id": "1db0bbf7",
   "metadata": {},
   "source": [
    "#### Question 4\n",
    "Calculer le déterminant de la matrice $H$ à partir de ses valeurs propres"
   ]
  },
  {
   "cell_type": "code",
   "execution_count": 64,
   "id": "422ac59b",
   "metadata": {},
   "outputs": [
    {
     "name": "stdout",
     "output_type": "stream",
     "text": [
      "det(D1) = 1.653439153439608e-07 \n",
      "det(H) = 1.6534391534390412e-07 \n"
     ]
    }
   ],
   "source": [
    "print(\"det(D1) = {} \".format(np.linalg.det(D1)))\n",
    "print(\"det(H) = {} \".format(np.linalg.det(H)))"
   ]
  },
  {
   "cell_type": "markdown",
   "id": "a1b11ecf",
   "metadata": {},
   "source": [
    "#### Question 5\n",
    "Lister toutes les propriétés de la matrice de passage $P$ en séparant :\n",
    "- celles obligatoires \n",
    "- celle(s) que l'on peut imposer "
   ]
  },
  {
   "cell_type": "code",
   "execution_count": null,
   "id": "69482633",
   "metadata": {},
   "outputs": [],
   "source": [
    "#Obligatoires:\n",
    "# P doit être Inversible\n",
    "# La taille du matrice (P) = taille du matrice (H) \n",
    "# Matrice carré\n",
    "\n",
    "\n",
    "#Celles que l'on peut imposer:\n",
    "# Si la matrice H est symétrique alors P peut être orthogonale (trans(P)=inv(P))"
   ]
  },
  {
   "cell_type": "markdown",
   "id": "8c01cad3",
   "metadata": {},
   "source": [
    "#### Question 6\n",
    "Vérifier par un calcul numérique que les 4 vecteurs colonnes de la matrice $P$ forment une base orthonormale de $\\mathbb{R}^4$."
   ]
  },
  {
   "cell_type": "code",
   "execution_count": 123,
   "id": "7481c811",
   "metadata": {},
   "outputs": [
    {
     "name": "stdout",
     "output_type": "stream",
     "text": [
      "transposée de P1 = \n",
      "[[ 0.79260829  0.45192312  0.3224164   0.25216117]\n",
      " [ 0.5820757  -0.37050219 -0.50957863 -0.51404827]\n",
      " [ 0.17918629 -0.74191779  0.10022814  0.63828253]\n",
      " [-0.02919332  0.32871206 -0.79141115  0.51455275]]\n",
      "inv de P1 = \n",
      "[[ 0.79260829  0.45192312  0.3224164   0.25216117]\n",
      " [ 0.5820757  -0.37050219 -0.50957863 -0.51404827]\n",
      " [ 0.17918629 -0.74191779  0.10022814  0.63828253]\n",
      " [-0.02919332  0.32871206 -0.79141115  0.51455275]]\n",
      "Comme le transposée de P1 = l'inv de P1, la matrice P forment une base orhtonormale de R^4\n"
     ]
    }
   ],
   "source": [
    "print(\"transposée de P1 = \\n{}\".format(P1.T))\n",
    "\n",
    "inv_P1 = np.linalg.inv(P1)\n",
    "print(\"inv de P1 = \\n{}\".format(inv_P1))\n",
    "\n",
    "#print(P1.T == inv_P1)\n",
    "\n",
    "print(\"Comme le transposée de P1 = l'inv de P1, la matrice P forment une base orhtonormale de R^4\")"
   ]
  },
  {
   "cell_type": "code",
   "execution_count": 80,
   "id": "612edd51",
   "metadata": {},
   "outputs": [
    {
     "name": "stdout",
     "output_type": "stream",
     "text": [
      "P1*inv_P1 = \n",
      "[[ 1.00000000e+00 -2.72939247e-17 -1.01010815e-17  3.58516663e-17]\n",
      " [ 1.49822439e-16  1.00000000e+00 -5.23360555e-17 -6.46380795e-17]\n",
      " [ 7.48548249e-17 -2.46827265e-17  1.00000000e+00 -3.08203661e-17]\n",
      " [ 5.20142965e-17 -1.25449656e-16  2.22120231e-16  1.00000000e+00]]\n",
      "P1*T.P1 = \n",
      "[[ 1.00000000e+00 -4.87258409e-17  2.76721331e-16 -2.18194945e-16]\n",
      " [-4.87258409e-17  1.00000000e+00 -1.01196402e-15  3.94346703e-16]\n",
      " [ 2.76721331e-16 -1.01196402e-15  1.00000000e+00  9.35686798e-16]\n",
      " [-2.18194945e-16  3.94346703e-16  9.35686798e-16  1.00000000e+00]]\n"
     ]
    }
   ],
   "source": [
    "inv_P1 = np.linalg.inv(P1)\n",
    "print(\"P1*inv_P1 = \\n{}\".format(np.dot(P1, inv_P1)))\n",
    "#Since the values are approximations, the symétrical values are approxmately 0\n",
    "\n",
    "print(\"P1*T.P1 = \\n{}\".format(np.dot(P1, P1.T)))"
   ]
  },
  {
   "cell_type": "code",
   "execution_count": 143,
   "id": "5d8cf222",
   "metadata": {},
   "outputs": [
    {
     "name": "stdout",
     "output_type": "stream",
     "text": [
      "Le produit scalaire de: \n",
      " 1 et 1 \n",
      " = 1.0000000000000002\n",
      "Le produit scalaire de: \n",
      " 1 et 2 \n",
      " = -2.220446049250313e-16\n",
      "Le produit scalaire de: \n",
      " 1 et 3 \n",
      " = -1.6653345369377348e-16\n",
      "Le produit scalaire de: \n",
      " 1 et 4 \n",
      " = -5.551115123125783e-17\n",
      "Le produit scalaire de: \n",
      " 2 et 1 \n",
      " = -2.220446049250313e-16\n",
      "Le produit scalaire de: \n",
      " 2 et 2 \n",
      " = 1.0000000000000002\n",
      "Le produit scalaire de: \n",
      " 2 et 3 \n",
      " = 1.3877787807814457e-17\n",
      "Le produit scalaire de: \n",
      " 2 et 4 \n",
      " = 1.6653345369377348e-16\n",
      "Le produit scalaire de: \n",
      " 3 et 1 \n",
      " = -1.6653345369377348e-16\n",
      "Le produit scalaire de: \n",
      " 3 et 2 \n",
      " = 1.3877787807814457e-17\n",
      "Le produit scalaire de: \n",
      " 3 et 3 \n",
      " = 1.0\n",
      "Le produit scalaire de: \n",
      " 3 et 4 \n",
      " = -1.9290125052862095e-15\n",
      "Le produit scalaire de: \n",
      " 4 et 1 \n",
      " = -5.551115123125783e-17\n",
      "Le produit scalaire de: \n",
      " 4 et 2 \n",
      " = 1.6653345369377348e-16\n",
      "Le produit scalaire de: \n",
      " 4 et 3 \n",
      " = -1.9290125052862095e-15\n",
      "Le produit scalaire de: \n",
      " 4 et 4 \n",
      " = 1.0000000000000002\n"
     ]
    }
   ],
   "source": [
    "for i in range (4):\n",
    "    for j in range(4):\n",
    "        u_i = P1[:,i]\n",
    "        u_j = P1[:,j]\n",
    "        print(\"Le produit scalaire de: \\n {} et {} \\n = {}\".format(i+1,j+1,np.dot(u_i,u_j)))"
   ]
  },
  {
   "cell_type": "markdown",
   "id": "4177dda7",
   "metadata": {},
   "source": [
    "#### Question 7\n",
    "Vérifier par un calcul numérique que la matrice $P$ est orthogonale."
   ]
  },
  {
   "cell_type": "code",
   "execution_count": 90,
   "id": "a4c6e7c3",
   "metadata": {},
   "outputs": [
    {
     "name": "stdout",
     "output_type": "stream",
     "text": [
      "[[-2.22044605e-16  3.33066907e-16  2.22044605e-16  5.55111512e-17]\n",
      " [ 0.00000000e+00 -2.22044605e-16 -2.22044605e-16 -2.22044605e-16]\n",
      " [-2.77555756e-17 -6.66133815e-16  1.29063427e-15 -9.99200722e-16]\n",
      " [-3.29597460e-16  1.38777878e-15 -5.55111512e-16 -1.22124533e-15]]\n",
      "Distance entre trans(P1)-inv(P1) = 2.702467572270385e-15\n"
     ]
    }
   ],
   "source": [
    "#A est symétrique alors P peut être orthogonale: trans(P) = inv(P)\n",
    "# P.T - inv P\n",
    "P_orth = P1.T-np.linalg.inv(P1)\n",
    "print(P_orth)\n",
    "\n",
    "print(\"Distance entre trans(P1)-inv(P1) = {}\".format(np.linalg.norm(P_orth)))\n",
    "#La valeur obtenue est environ égale à 0"
   ]
  },
  {
   "cell_type": "markdown",
   "id": "bd56bc8a",
   "metadata": {},
   "source": [
    "# 2 - Décomposition en valeurs singulières - SVD\n",
    "\n",
    "Vous pouvez accèder aux [notes de cours sur la SVD ici](https://moodle.caseine.org/pluginfile.php/181980/mod_resource/content/1/SVD.pdf)."
   ]
  },
  {
   "cell_type": "markdown",
   "id": "7459af91",
   "metadata": {},
   "source": [
    "## 2.1 - SVD & conditionnement de la matrice de Hilbert"
   ]
  },
  {
   "cell_type": "code",
   "execution_count": 117,
   "id": "0fbfb670",
   "metadata": {},
   "outputs": [
    {
     "name": "stdout",
     "output_type": "stream",
     "text": [
      "\n",
      "-> Matrice orthogonale U\n",
      "[[-0.79260829  0.5820757  -0.17918629 -0.02919332]\n",
      " [-0.45192312 -0.37050219  0.74191779  0.32871206]\n",
      " [-0.3224164  -0.50957863 -0.10022814 -0.79141115]\n",
      " [-0.25216117 -0.51404827 -0.63828253  0.51455275]]\n",
      "\n",
      "-> Matrice diagonale S\n",
      "[[1.50021428e+00 0.00000000e+00 0.00000000e+00 0.00000000e+00]\n",
      " [0.00000000e+00 1.69141220e-01 0.00000000e+00 0.00000000e+00]\n",
      " [0.00000000e+00 0.00000000e+00 6.73827361e-03 0.00000000e+00]\n",
      " [0.00000000e+00 0.00000000e+00 0.00000000e+00 9.67023040e-05]]\n",
      "\n",
      "-> Matrice orthogonale transposée de V\n",
      "[[-0.79260829 -0.45192312 -0.3224164  -0.25216117]\n",
      " [ 0.5820757  -0.37050219 -0.50957863 -0.51404827]\n",
      " [-0.17918629  0.74191779 -0.10022814 -0.63828253]\n",
      " [-0.02919332  0.32871206 -0.79141115  0.51455275]]\n"
     ]
    }
   ],
   "source": [
    "## En reprenant l'exercice 1.2, on définit la matrice de Hilbert d'ordre 4\n",
    "n=4\n",
    "H=np.zeros((n,n))\n",
    "for i in range(n):\n",
    "    for j in range(n):\n",
    "        H[i,j]=1./((i+1)+(j+1)-1) \n",
    "## Decomposition en valeurs singulières de H \n",
    "U, sigma, trans_V = svd(H)\n",
    "##\n",
    "print(\"\\n-> Matrice orthogonale U\")\n",
    "print(U)\n",
    "#\n",
    "S = np.diag(sigma)\n",
    "#\n",
    "print(\"\\n-> Matrice diagonale S\")\n",
    "print(S)\n",
    "#\n",
    "print(\"\\n-> Matrice orthogonale transposée de V\")\n",
    "print(trans_V)"
   ]
  },
  {
   "cell_type": "markdown",
   "id": "1400b620",
   "metadata": {},
   "source": [
    "##### Questions\n",
    "A quoi correspondent les trois vérifications ci-dessous?"
   ]
  },
  {
   "cell_type": "code",
   "execution_count": 141,
   "id": "f51a927d",
   "metadata": {},
   "outputs": [
    {
     "name": "stdout",
     "output_type": "stream",
     "text": [
      "\n",
      " Vérification 1 :\n",
      "[[ 1. -0.  0.  0.]\n",
      " [-0.  1. -0. -0.]\n",
      " [ 0. -0.  1. -0.]\n",
      " [ 0. -0. -0.  1.]]\n",
      "\n",
      " Vérification 2 :\n",
      "[[ 1. -0.  0.  0.]\n",
      " [-0.  1.  0.  0.]\n",
      " [ 0.  0.  1. -0.]\n",
      " [ 0.  0. -0.  1.]]\n",
      "\n",
      " Vérification 3 :\n",
      "[[0. 0. 0. 0.]\n",
      " [0. 0. 0. 0.]\n",
      " [0. 0. 0. 0.]\n",
      " [0. 0. 0. 0.]]\n"
     ]
    }
   ],
   "source": [
    "## Un exemple de vérification :\n",
    "print(\"\\n Vérification 1 :\")\n",
    "print(np.round(U@U.T))\n",
    "\n",
    "#Verfication d'une matrice identité pour confirmer son orthogonalité\n",
    "\n",
    "## Un exemple de vérification :\n",
    "print(\"\\n Vérification 2 :\")\n",
    "print(np.round(tV@tV.T))\n",
    "\n",
    "#Verification d'une matrice identité pour confirmer son orthogonalité\n",
    "\n",
    "## Un exemple de vérification :\n",
    "print(\"\\n Vérification 3 :\")\n",
    "print(np.round(H-U@S@tV))\n",
    "\n",
    "#Verification de comment le determinant(H) est different de 0, P est donc inversible.\n",
    "#D'apres la formule de diagonalisation, H - U*S*trans(V) doit être égale à une matrice nulle\n",
    "#C'est notre cas"
   ]
  },
  {
   "cell_type": "code",
   "execution_count": 121,
   "id": "8cd723e8",
   "metadata": {},
   "outputs": [
    {
     "name": "stdout",
     "output_type": "stream",
     "text": [
      "Le conditionnement obtenu directemement en python est : 15513.73873892924 \n"
     ]
    }
   ],
   "source": [
    "## Calcul de la valeur du conditionnement de la matrice H\n",
    "Conditionnement_H_python= np.linalg.cond(H)\n",
    "print(\"Le conditionnement obtenu directemement en python est : {} \".format(Conditionnement_H_python))\n"
   ]
  },
  {
   "cell_type": "markdown",
   "id": "ae914923",
   "metadata": {},
   "source": [
    "##### Question\n",
    "Calculer le conditionnement de la matrice de Hilbert d'ordre 4 par la formule du cours\n",
    "$\n",
    "cond(H) = \\sigma_1/\\sigma_4\n",
    "$\n",
    "où\n",
    "- $\\sigma_1$ est la plus grande valeur singulière de $H$ \n",
    "- $\\sigma_4$ est la plus petite valeur singulière de $H$\n",
    "\n",
    "Puis vérifier votre résultat avec la valeur obtenue par la commande `np.linalg.cond(H)`"
   ]
  },
  {
   "cell_type": "code",
   "execution_count": null,
   "id": "41aa81e5",
   "metadata": {},
   "outputs": [],
   "source": [
    "## A VOUS DE FAIRE"
   ]
  },
  {
   "cell_type": "markdown",
   "id": "fae7ebd4",
   "metadata": {},
   "source": [
    "##### Question\n",
    "Expliquer pourquoi la matrice de Hilbert est mal conditionnée"
   ]
  },
  {
   "cell_type": "code",
   "execution_count": null,
   "id": "83cd96b7",
   "metadata": {},
   "outputs": [],
   "source": [
    "## A VOUS DE FAIRE"
   ]
  },
  {
   "cell_type": "markdown",
   "id": "d799f1c4",
   "metadata": {},
   "source": [
    "## 2.2 - Comprendre la SVD \"à la main\" - exemple de la matrice de Hilbert"
   ]
  },
  {
   "cell_type": "markdown",
   "id": "1e8363d6",
   "metadata": {},
   "source": [
    "On se propose dans cette section de faire la décomposition en valeurs singulières de la matrice de Hilbert \"à la main\", c'est à dire de suivre les étapes proposées dans le cours.\n",
    "\n",
    "Vous pouvez aussi vous remémorer ces étapes et les formules dans l'[exercice corrigé sur la SVD](https://moodle.caseine.org/pluginfile.php/180381/mod_resource/content/2/Seance.06.pdf)"
   ]
  },
  {
   "cell_type": "code",
   "execution_count": null,
   "id": "c5a60465",
   "metadata": {},
   "outputs": [],
   "source": [
    "## Décomposition en valeurs singulières - La théorie de la SVD pour H\n",
    "#####################################################################\n",
    "## 1] Diagonalisation de la matrice B définie par tH * H\n",
    "## ---> Obtention des matrices S et V\n",
    "#####################################\n",
    "## Calcul de la matrice B = tH * H\n",
    "B = H.T@H\n",
    "## Calcul des éléments propres de B\n",
    "valeurs_propres_B,vecteurs_propres_B = np.linalg.eig(B)\n",
    "D_B = np.diag(valeurs_propres_B)\n",
    "P_B = vecteurs_propres_B\n",
    "##\n",
    "## Avec les notations de la SVD de H, on en déduit :\n",
    "## 1) les valeurs singulières de H qui dont les racines carrées de valeurs propres de B\n",
    "##    ce qui permet de construire la matrice S\n",
    "##    Remarque : on nomme cette matrice S_H pour la comparer à la matrice S obtenue à la section 2.1\n",
    "S_H = np.sqrt(D_B)\n",
    "## 2) la matrice V (notée ici V_H) definie comme la matrice de passage de la diagonalisation de B\n",
    "V_H = P_B"
   ]
  },
  {
   "cell_type": "code",
   "execution_count": null,
   "id": "9a05e813",
   "metadata": {},
   "outputs": [],
   "source": [
    "##############################################################\n",
    "## 2] Diagonalisation de la matrice C définie par H * tH\n",
    "## ---> Vérification des valeurs singulières\n",
    "############################################\n",
    "## Calcul de la matrice C = H * tH\n",
    "C = H@H.T\n",
    "## Calcul des éléments propres de C\n",
    "valeurs_propres_C,vecteurs_propres_C = np.linalg.eig(C)\n",
    "D_C = np.diag(valeurs_propres_C)\n",
    "## On peut alors vérifier que les valeurs propres de B et de C sont bien identiques\n",
    "## Elles sont contenues dans les matrices diagonales D_B et D_C\n",
    "## et permettent donc de définir les valeurs singulières comme leurs racines carrées\n",
    "print(np.round(D_B-D_C))"
   ]
  },
  {
   "cell_type": "code",
   "execution_count": null,
   "id": "9cee6495",
   "metadata": {},
   "outputs": [],
   "source": [
    "##############################################################\n",
    "## 3] Obtention de la matrice U\n",
    "################################\n",
    "## Cette matrice est donnée par une formule dans le cours...\n",
    "## Remarque : on nomme cette matrice U_H pour la comparer à la matrice U obtenue à la section 2.1\n",
    "U_H=np.zeros((n,n))\n",
    "for j in range(n):\n",
    "    U_H[:,j]=H@V_H[:,j]/S_H[j,j]"
   ]
  },
  {
   "cell_type": "markdown",
   "id": "d034b71e",
   "metadata": {},
   "source": [
    "####  Question 1\n",
    "Vérifier la diagonalisation de la matrice $B$ par un calcul numérique, c'est à dire que $B=P_B D_B P_B^{-1}$"
   ]
  },
  {
   "cell_type": "code",
   "execution_count": null,
   "id": "dbe44c6b",
   "metadata": {},
   "outputs": [],
   "source": []
  },
  {
   "cell_type": "markdown",
   "id": "b80e441d",
   "metadata": {},
   "source": [
    "#### Question 2\n",
    "Vérifier que la matrice $U_H$ est bien une matrice de passage pour la diagonalisation de $C$, c'est à dire que $C = U_H\\,D_C\\, U_H^{-1}$"
   ]
  },
  {
   "cell_type": "code",
   "execution_count": null,
   "id": "063b8545",
   "metadata": {},
   "outputs": [],
   "source": []
  },
  {
   "cell_type": "markdown",
   "id": "f0aa090b",
   "metadata": {},
   "source": [
    "#### Question 3\n",
    "Vérifier la décomposition en valeurs singulières de la matrice $H$, c'est à dire que $H = U_H\\, S_H\\, ^t\\hspace{-0.2mm}V_H$"
   ]
  },
  {
   "cell_type": "code",
   "execution_count": null,
   "id": "3cb3bfee",
   "metadata": {},
   "outputs": [],
   "source": []
  },
  {
   "cell_type": "markdown",
   "id": "c5ff910d",
   "metadata": {},
   "source": [
    "#### Question 4\n",
    "Comparer les matrices \n",
    "$$(U,S,\\,^t\\hspace{-0.2mm}V)$$ obtenues à la section 2.1 par la commande `svd(H)`\n",
    "avec les matrices\n",
    "$$(U_H,S_H,\\,^t\\hspace{-0.2mm}V_H)$$ obtenues ci-dessus \"à la main\".\n",
    "\n",
    "* La SVD obtenue par la commande `svd(H)` est-elle la même que celle obtenue par vos calculs?\n",
    "* Quelles différences observez-vous et pourquoi sont-elles cohérentes ?"
   ]
  },
  {
   "cell_type": "code",
   "execution_count": null,
   "id": "f3f47a5e",
   "metadata": {},
   "outputs": [],
   "source": []
  },
  {
   "cell_type": "markdown",
   "id": "b01a1b8e",
   "metadata": {},
   "source": [
    "#### Testez votre compréhension en répondant aux questions suivantes \n",
    "\n",
    "En ayant défini les matrices $B=\\, ^t\\hspace{-0.7mm}H\\,H$ et $C=H\\,^t\\hspace{-0.7mm}H$ :\n",
    "- Quelles propriétés possèdent les valeurs propres des matrices $B$ et $C$?\n",
    "- Comment définit-on les valeurs singulières de la matrice $H$?\n",
    "- Comment sont définies les matrices $U$, $S$ et $V$ qui forment la décomposition de $H$ en valeurs singulières, c'est à dire sous la forme $H=U\\,S\\,^t\\hspace{-0.2mm}V$?\n",
    "- Quelle(s) propriété(s) possèdent les matrices $U$ et $V$?\n",
    "- La décomposition de $H$ en valeurs singulières est-elle unique?  (expliquez votre réponse)\n",
    "\n",
    "#### $\\color{red}{\\textbf{Et pour ceux qui ont tout compris...}}$\n",
    "- Vérifier et expliquer pourquoi les valeurs propres et les valeurs singulières de la matrice $H$ sont égales"
   ]
  },
  {
   "cell_type": "markdown",
   "id": "21ebd2fd",
   "metadata": {},
   "source": [
    "## 2.3 - SVD de Sam le lapin (illustration du cours)"
   ]
  },
  {
   "cell_type": "code",
   "execution_count": null,
   "id": "e6b28c9a",
   "metadata": {},
   "outputs": [],
   "source": [
    "## Afichage de l'image originale de SAM\n",
    "A = np.loadtxt(\"sam.csv\", delimiter=\"\\t\", dtype=int)\n",
    "fig, ax = plt.subplots()\n",
    "ax.imshow(A, cmap=\"Greys_r\")"
   ]
  },
  {
   "cell_type": "code",
   "execution_count": null,
   "id": "0e1535c2",
   "metadata": {},
   "outputs": [],
   "source": [
    "## SVD de la matrice A\n",
    "U, sigma, tV = svd(A)\n",
    "B = np.zeros_like(A)\n",
    "## Nombre de valeurs singulières considérées pour la reconstuction de Sam le lapin dans {1,2,..., n =512}\n",
    "s=10\n",
    "for i in range(s):\n",
    "    ## Attention : en python np.array(U[:,i]]) donne les valeurs de la colonne i-1 du tableau U\n",
    "    ## c'est a dire la colonne i de la matrice U\n",
    "    ## mais en tableau mono-dimensionnel et donc en ligne alors qu'on le veut en vecteur colonne\n",
    "    colonne_i_U = np.array([U[:,i]]).T\n",
    "    ligne_i_tV = np.array([tV[i,:]])\n",
    "    ## Création de la matrice B approchée de A\n",
    "    B = B + sigma[i] * colonne_i_U @ ligne_i_tV\n",
    "    fig, ax = plt.subplots()\n",
    "    #print('Reconstruction pour {} valeurs singulières'.format(i))\n",
    "    plt.title(f'Reconstruction pour {i+1} valeurs singulières\\n')\n",
    "    ax.imshow(B, cmap=\"Greys_r\")"
   ]
  },
  {
   "cell_type": "markdown",
   "id": "feac211c",
   "metadata": {},
   "source": [
    "##### Question 1\n",
    "A partir de combien de valeurs singulières (c'est à dire la valeur de `s`) reconnait-on bien Sam le lapin ?"
   ]
  },
  {
   "cell_type": "code",
   "execution_count": null,
   "id": "1e102e5d",
   "metadata": {},
   "outputs": [],
   "source": []
  },
  {
   "cell_type": "markdown",
   "id": "1de9eb1b",
   "metadata": {},
   "source": [
    "##### Question 2\n",
    "Utiliser le [cours](https://moodle.caseine.org/pluginfile.php/181980/mod_resource/content/1/SVD.pdf) pour déterminer le taux de compression théorique, c'est à dire le rapport \n",
    "\n",
    "$$\\frac{\\mbox{mémoire utilisée pour stocker A}}{\\mbox{mémoire utilisée pour stocker B}}$$\n",
    "en fonction de la valeur de `s`"
   ]
  },
  {
   "cell_type": "code",
   "execution_count": null,
   "id": "3b5c2d02",
   "metadata": {},
   "outputs": [],
   "source": []
  }
 ],
 "metadata": {
  "kernelspec": {
   "display_name": "Python 3 (ipykernel)",
   "language": "python",
   "name": "python3"
  },
  "language_info": {
   "codemirror_mode": {
    "name": "ipython",
    "version": 3
   },
   "file_extension": ".py",
   "mimetype": "text/x-python",
   "name": "python",
   "nbconvert_exporter": "python",
   "pygments_lexer": "ipython3",
   "version": "3.9.7"
  }
 },
 "nbformat": 4,
 "nbformat_minor": 5
}
