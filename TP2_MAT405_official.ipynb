{
 "cells": [
  {
   "cell_type": "markdown",
   "id": "93c3efa1",
   "metadata": {},
   "source": [
    "# TP2 - Matrices et Applications\n",
    "\n",
    "#### Les objectifs de ce second TP sont de se familiariser avec\n",
    " - la manipulation des matrices de \"manière ludique\" (partie 1)\n",
    " - la notion d'erreur lors de la résolution numérique des systèmes linéaires (partie 2)\n",
    " \n",
    "#### Méthodologie\n",
    " - exécuter les cellules pour comprendre ce qui est programmé et comment\n",
    " - répondre aux questions en refaisant par vous-même"
   ]
  },
  {
   "cell_type": "markdown",
   "id": "3ec01a6e",
   "metadata": {},
   "source": [
    "# 1 - Matrices et Images\n",
    "\n",
    "On considère l'image ci-dessous en niveaux de gris (\"greyscale\" en anglais).\n",
    "L'objectif de cette première partie est de travailler sur cette image en la considérant comme une matrice."
   ]
  },
  {
   "cell_type": "code",
   "execution_count": null,
   "id": "fda34edf",
   "metadata": {},
   "outputs": [],
   "source": [
    "# Importation de la librairie \"numpy\"\n",
    "import numpy as np\n",
    "# Importation du module \"pyplot\" de la librairie \"matplotlib\"\n",
    "import matplotlib.pyplot as plt"
   ]
  },
  {
   "cell_type": "code",
   "execution_count": null,
   "id": "bcc140c4",
   "metadata": {},
   "outputs": [],
   "source": [
    "# Importation de l'image : fichier \"sam.csv\" dans la variable A\n",
    "# ATTENTION : le fichier \"sam.csv\" doit être enregistré au même endroit que ce notebook \n",
    "A = np.loadtxt(\"sam.csv\", delimiter=\"\\t\", dtype=int)"
   ]
  },
  {
   "cell_type": "code",
   "execution_count": null,
   "id": "bb7f2186",
   "metadata": {
    "scrolled": false
   },
   "outputs": [],
   "source": [
    "# Affichage de l'image : variable A en niveaux de gris\n",
    "fig, ax = plt.subplots()\n",
    "ax.imshow(A, cmap=\"Greys_r\")"
   ]
  },
  {
   "cell_type": "markdown",
   "id": "394f7def",
   "metadata": {},
   "source": [
    "## 1.1 - Structure de la variable $A$\n",
    "\n",
    "L'image du lapin \"Sam\" est en fait l'affichage de valeurs contenues dans un tableau. Chaque pixel correspond à une case du tableau et est codé par un entier entre 0 et 255 qui correspond à un niveau de gris (0 pour le noir et 255 pour le blanc). Cette image, composée de $m\\times n$ (ici $m=n=512$) pixels, est donc représentée par \n",
    "un tableau d'entiers avec $m$ lignes et $n$ colonnes, c'est à dire une matrice $m\\times n$ dont les coefficients sont donc des entiers compris entre 0 et 255.\n",
    "\n",
    "L'exécution des cellules ci-dessous va vous permettre de vérifier ceci et de bien comprendre cette structure.\n",
    "##### NB Vous pouvez aussi afficher cette variable..."
   ]
  },
  {
   "cell_type": "code",
   "execution_count": null,
   "id": "d8fc1375",
   "metadata": {},
   "outputs": [],
   "source": [
    "m,n =A.shape\n",
    "print(\"La matrice A est de taille {}x{}\".format(m,n))"
   ]
  },
  {
   "cell_type": "code",
   "execution_count": null,
   "id": "b8a1b0b5",
   "metadata": {},
   "outputs": [],
   "source": [
    "# Construction des vecteurs d'abscisses x_L150 et d'ordonnées y_L150\n",
    "# pour représenter avec 10 points la ligne i=150 (L150) de la matrice A sur l'image \n",
    "nombre_points=10\n",
    "x_L150=np.linspace(1,n-1,nombre_points)\n",
    "y_L150=150*np.ones(nombre_points)\n",
    "# Remarque : vous pouvez afficher ces vecteurs pour comprendre ce qu'ils contiennent\n",
    "#\n",
    "# pour représenter la colonne j=300 de la matrice A sur l'image\n",
    "x_C300=300*np.ones(nombre_points)\n",
    "y_C300=np.linspace(1,m-1,nombre_points)\n",
    "#\n",
    "# Visualisation de Sam et correspondance visuelle avec\n",
    "# - la ligne 150 de la matrice A \n",
    "# - la colonne 300 de la matrice A\n",
    "fig, ax = plt.subplots()\n",
    "ax.imshow(A, cmap=\"Greys_r\")\n",
    "ax.plot(x_L150,y_L150,'b*', label='ligne i=150')\n",
    "ax.plot(x_C300,y_C300,'ro', label='colonne j=300')\n",
    "plt.xlabel('indice j - colonnes')\n",
    "plt.ylabel('indice i - lignes')\n",
    "plt.legend();"
   ]
  },
  {
   "cell_type": "markdown",
   "id": "3b630137",
   "metadata": {},
   "source": [
    "#### Question 1\n",
    "Exécuter la cellule ci-dessous et identifier ce qui a été modifié sur l'image de Sam grace aux modifications effectuées sur la matrice."
   ]
  },
  {
   "cell_type": "code",
   "execution_count": null,
   "id": "993efd35",
   "metadata": {},
   "outputs": [],
   "source": [
    "# Construction d'une nouvelle matrice B identique à la matrice A\n",
    "# pour travailler sans modifier l'image originale de Sam (matrice A)\n",
    "B=A.copy()\n",
    "# Modifications de la matrice\n",
    "B[149,:] = 255\n",
    "B[:,299] = 0\n",
    "# Affichage de l'image modifiée : matrice B en niveau de gris\n",
    "fig, ax = plt.subplots()\n",
    "ax.imshow(B, cmap=\"Greys_r\")"
   ]
  },
  {
   "cell_type": "markdown",
   "id": "fcd7f7ba",
   "metadata": {},
   "source": [
    "#### Question 2\n",
    "Exécuter les deux cellules ci-dessous afin de comprendre et d'identifier ce qui a été modifié sur l'image de Sam grace aux opérations effectuées sur la matrice. Pourquoi voit-on maintenant Sam en noir et blanc ? "
   ]
  },
  {
   "cell_type": "code",
   "execution_count": null,
   "id": "b17bb723",
   "metadata": {},
   "outputs": [],
   "source": [
    "# La commande '//' sert à faire une division entière.\n",
    "# par exemple : \n",
    "a = 155\n",
    "b = 100\n",
    "q = a // b\n",
    "print(\"La division entière de {} par {} est {}\\n\".format(a,b,q))\n",
    "print(\"La valeur maximale contenue dans la matrice A est {}\".format(np.max(A)))\n",
    "print(\"La division entière cette valeur maximale par 100 est {}\".format(np.max(A)//100))"
   ]
  },
  {
   "cell_type": "code",
   "execution_count": null,
   "id": "e0cb3a6c",
   "metadata": {},
   "outputs": [],
   "source": [
    "C = A // 200\n",
    "fig, ax = plt.subplots()\n",
    "ax.imshow(C, cmap=\"Greys_r\")"
   ]
  },
  {
   "cell_type": "markdown",
   "id": "2b8485c4",
   "metadata": {},
   "source": [
    "#### Question 3\n",
    "Afficher l'image de Sam avec un nombre de niveaux de gris variable."
   ]
  },
  {
   "cell_type": "code",
   "execution_count": null,
   "id": "e3d8e6ae",
   "metadata": {},
   "outputs": [],
   "source": [
    "### A VOUS DE FAIRE ####"
   ]
  },
  {
   "cell_type": "markdown",
   "id": "ac2873fe",
   "metadata": {},
   "source": [
    "## 1.2 - Transformations de l'image de Sam \n",
    "On se propose maintenant d'effectuer des manipulations sur les lignes et les colonnes de la matrice $A$ et d'en observer les conséquences sur l'image de Sam. "
   ]
  },
  {
   "cell_type": "markdown",
   "id": "0bbb95dc",
   "metadata": {},
   "source": [
    "#### Question 4\n",
    "Exécuter la cellule ci-dessous pour \n",
    " - déterminer la manipulation effectuée sur la matrice A \n",
    " - comprendre la transformation correspondante sur l'image de Sam\n",
    "\n",
    "##### NB vous pourrez aussi afficher l'image originale de Sam pour comparer ..."
   ]
  },
  {
   "cell_type": "code",
   "execution_count": null,
   "id": "c44df6e7",
   "metadata": {},
   "outputs": [],
   "source": [
    "# Transformation 1 : \n",
    "# Construction d'une matrice M1 à partir de la matrice d'origine A\n",
    "# M1 de même taille que A pour commencer, et ne contenant que des zéros\n",
    "M1 = np.zeros_like(A)\n",
    "# Manipulation sur A pour construire M1\n",
    "for j in range(n):\n",
    "    M1[:,j]=A[:,n-1-j]\n",
    "# Affichage de l'image correspondant à la matrice M1     \n",
    "fig, ax = plt.subplots()\n",
    "ax.imshow(M1, cmap=\"Greys_r\")"
   ]
  },
  {
   "cell_type": "markdown",
   "id": "448badc5",
   "metadata": {},
   "source": [
    "#### Question 5\n",
    "Exécuter la cellule ci-dessous pour \n",
    " - déterminer la manipulation effectuée sur la matrice A \n",
    " - comprendre la transformation correspondante sur l'image de Sam"
   ]
  },
  {
   "cell_type": "code",
   "execution_count": null,
   "id": "42eaf84d",
   "metadata": {},
   "outputs": [],
   "source": [
    "# Transformation 2 : \n",
    "M2 = A.T\n",
    "fig, ax = plt.subplots()\n",
    "ax.imshow(M2, cmap=\"Greys_r\")"
   ]
  },
  {
   "cell_type": "markdown",
   "id": "4c51cac7",
   "metadata": {},
   "source": [
    "#### Question 6\n",
    "Trouver une (ou plusieurs) manipulation(s) matricielle(s) sur la matrice $A$ afin de réaliser chacune des transformations de Sam suivantes:\n",
    "- une rotation de 90 degrés dans le sens des aiguilles d'une montre \n",
    "- une rotation de 180 degrés dans le sens des aiguilles d'une montre \n",
    "- une rotation de 270 degrés dans le sens des aiguilles d'une montre \n",
    "\n",
    "puis tester ces manipulation en affichant l'image transformée correspondante.\n",
    "##### NB Prenez une feuille et un crayon, ça vous aidera ... !"
   ]
  },
  {
   "cell_type": "code",
   "execution_count": null,
   "id": "bdeed995",
   "metadata": {},
   "outputs": [],
   "source": [
    "### A VOUS DE FAIRE ####"
   ]
  },
  {
   "cell_type": "markdown",
   "id": "0e1e7850",
   "metadata": {},
   "source": [
    "# 2 - Matrices et systèmes linéaires\n",
    "Nous nous proposons d'étudier la qualité de la résolution numérique en python du système linéaire $H_{(n)} X=Y\\,,$ système de $n$ équations à $n$ inconnues, dans lequel\n",
    "- $X$ est le vecteur inconnu que l'on cherche à déterminer numériquement\n",
    "- $Y$ est le vecteur second membre, donné\n",
    "- la matrice du système $H_{(n)}$ est la matrice de Hilbert d'ordre $n$ dont les coefficients sont définis par :\n",
    "$$\n",
    "H_{(n)}(i,j)={1\\over i+j-1},\\;\\;1\\le i,j\\le n.\n",
    "$$"
   ]
  },
  {
   "cell_type": "markdown",
   "id": "9fefe414",
   "metadata": {},
   "source": [
    "## 2.1 - Pour comprendre avec le cas $n = 4$\n",
    "Commençons avec un exemple où le système linéaire est un système à 4 équations et 4 inconnues, dont la matrice est la matrice de Hilbert d'ordre $n=4$:\n",
    "$$\n",
    "\\displaystyle \n",
    "H_{(4)}=\\left(\n",
    "\\begin{array}{cccc}\n",
    "1 & 1/2 & 1/3 & 1/4\\\\\n",
    "1/2 & 1/3 & 1/4 & 1/5\\\\\n",
    "1/3 & 1/4 & 1/5 & 1/6\\\\\n",
    "1/4 & 1/5 & 1/6 & 1/7\\\\\n",
    "\\end{array}\n",
    "\\right)\n",
    "$$"
   ]
  },
  {
   "cell_type": "markdown",
   "id": "744cdace",
   "metadata": {},
   "source": [
    "On souhaite donc tester la résolution numérique en python du système $$H_{(4)} X=Y$$"
   ]
  },
  {
   "cell_type": "markdown",
   "id": "1f321654",
   "metadata": {},
   "source": [
    "Tester une méthode numérique veut dire créer un cas test dans lequel on connait la solution (que nous appelerons \"solution exacte\") et vérifier que la solution calculée numériquement (que nous appelerons \"solution approchée\") correspond bien à la solution exacte. Si c'est bien le cas, le test est concluant et le calcul numérique valable. Si les résultats sont différents, alors il y a un problème..."
   ]
  },
  {
   "cell_type": "markdown",
   "id": "52b92450",
   "metadata": {},
   "source": [
    "Nous allons donc construire un tel cas test en prenant un second membre $Y$ qui correspond à un vecteur $X$ connu.\n",
    "\n",
    "Nous choisissons de prendre le vecteur\n",
    "$\n",
    "\\displaystyle \n",
    "X_{exact}=\\left(\n",
    "\\begin{array}{c}\n",
    "1\\\\\n",
    "1\\\\\n",
    "1\\\\    \n",
    "1\n",
    "\\end{array}\n",
    "\\right)\n",
    "$.\n",
    "Pour ce vecteur $X=X_{exact}$ donné, on calcule le vecteur second membre défini par $Y = H_{(4)} X_{exact}$"
   ]
  },
  {
   "cell_type": "markdown",
   "id": "ae79c448",
   "metadata": {},
   "source": [
    "Ainsi, par construction, on s'attend à ce que le vecteur $X_{approché}$ solution du sytème $H_{(4)} X = Y$ calculée numériquement donne la même chose que $X_{exact}$ (si la solution est unique...). C'est ce que nous allons tester ci-dessous."
   ]
  },
  {
   "cell_type": "code",
   "execution_count": null,
   "id": "86779ccf",
   "metadata": {},
   "outputs": [],
   "source": [
    "# Construction coefficients par coefficients de la matrice de Hilbert 4 x 4 (aussi dite d'ordre 4)\n",
    "# REMARQUE :\n",
    "# Ce jeu sur les indices est pour permettre de bien avoir un tableau python\n",
    "# dont les indices commencent à 0\n",
    "# et dont les coefficients sont données par l'expression théorique en fonction de i et j \n",
    "H=np.zeros((4,4))\n",
    "for i_python in range(4):\n",
    "    for j_python in range(4):\n",
    "        i_matrice = i_python + 1\n",
    "        j_matrice = j_python + 1  \n",
    "        H[i_python,j_python]=1./(i_matrice+j_matrice-1)\n",
    "# Construction du vecteur qui défini la solution exacte \n",
    "X_exact=np.ones(4)\n",
    "# Construction du vecteur second membre correspondant \n",
    "Y = H@X_exact\n",
    "# Calcul de la solution numérique dite \"approchée\" du système\n",
    "X_approche = np.linalg.solve(H, Y)"
   ]
  },
  {
   "cell_type": "code",
   "execution_count": null,
   "id": "7211ae21",
   "metadata": {},
   "outputs": [],
   "source": [
    "# VERIFICATIONS \n",
    "print(\"La solution calculée numériquement en python est {}\".format(X_approche))\n",
    "print(\"La solution exacte est {}\".format(X_exact))\n",
    "# Calcul du vecteur d'erreur contenant les écarts entre les composantes de ces vecteurs\n",
    "Vecteur_erreur = X_exact - X_approche\n",
    "print(\"Le vecteur d'erreurs correspondant est {}\".format(Vecteur_erreur))\n",
    "# Vérification que la matrice est bien inversible (système avec une solution unique)\n",
    "print(\"Le déterminant de la matrice du système est det(H) = {}\".format(np.linalg.det(H)))"
   ]
  },
  {
   "cell_type": "markdown",
   "id": "5c04b7fb",
   "metadata": {},
   "source": [
    "##### Premières conclusions sur le test \n",
    "On peut donc dire que le test semble concluant car les solutions exacte $X_{exact}$ et approchée $X_{approché}$ sont très proches l'une de l'autre (elles semblent même égales). On peut aussi regarder leur écart, c'est à dire les erreurs entre leurs composantes via le vecteur d'erreurs: ces erreurs sont très petites (très proches de 0).\n",
    "\n",
    "On peut aussi remarquer que la valeur du déterminant de la matrice du système est non-nulle et qu'il y a donc une solution unique au système. Cette valeur est cependant proche de zéro..."
   ]
  },
  {
   "cell_type": "markdown",
   "id": "f4a4ddf5",
   "metadata": {},
   "source": [
    "##### Représentations graphiques des résultats du tests"
   ]
  },
  {
   "cell_type": "code",
   "execution_count": null,
   "id": "50031159",
   "metadata": {},
   "outputs": [],
   "source": [
    "premiere_composante = 1\n",
    "derniere_composante = 4\n",
    "numero_composante = np.linspace(premiere_composante,derniere_composante,derniere_composante)\n",
    "\n",
    "plt.plot(numero_composante,X_exact, 'bo', label='Solution exacte')\n",
    "plt.plot(numero_composante,X_approche, 'r+', markersize = 15, label='Solution approchée')\n",
    "plt.xlim(premiere_composante - 0.25, derniere_composante + 0.25)\n",
    "plt.ylim(np.min(X_approche)-1,np.max(X_approche)+1)\n",
    "plt.legend()\n",
    "plt.title('Comparaison des solutions')\n",
    "plt.xlabel('numéro de la composante')\n",
    "plt.ylabel('valeur de la composante')\n",
    "plt.show()"
   ]
  },
  {
   "cell_type": "code",
   "execution_count": null,
   "id": "c31d261e",
   "metadata": {},
   "outputs": [],
   "source": [
    "plt.plot(numero_composante,np.abs(Vecteur_erreur), 'ro', label='Valeur absolue des erreurs')\n",
    "plt.xlim(premiere_composante - 0.25, derniere_composante + 0.25)\n",
    "plt.ylim(0,1.25*np.max(np.abs(Vecteur_erreur)))\n",
    "plt.legend()\n",
    "plt.title('Erreurs entre les solutions')\n",
    "plt.xlabel('numéro de la composante')\n",
    "plt.ylabel('Valeur absolue des erreurs')\n",
    "plt.show()"
   ]
  },
  {
   "cell_type": "markdown",
   "id": "482f33b9",
   "metadata": {},
   "source": [
    "##### Différents types d'erreurs\n",
    "\n",
    "Il existe plusieurs manières d'évaluer des erreurs; L'utilisation de ces différents types d'erreur dépend le plus souvent de ce que l'on cherche à évaluer. On peut ainsi définir, sans être exhaustif, des erreurs relatives ou absolues, des erreurs moyennes ou maximales, comme proposé ci-dessous.\n",
    "\n",
    "Les valeurs calculées ci-dessous permettent dans notre cas de dire que le test est bien concluant pour $n=4$ car toutes ces erreurs sont très faibles."
   ]
  },
  {
   "cell_type": "code",
   "execution_count": null,
   "id": "83dc1510",
   "metadata": {},
   "outputs": [],
   "source": [
    "# Calcul de l'erreur absolue moyenne \n",
    "erreur_absolue_moyenne = np.mean(np.abs(Vecteur_erreur))\n",
    "print(\"Erreur absolue moyenne = {}\".format(erreur_absolue_moyenne))\n",
    "# Calcul de l'erreur absolue maximale \n",
    "erreur_absolue_max = np.linalg.norm(Vecteur_erreur,np.inf)\n",
    "print(\"Erreur absolue maximale = {}\".format(erreur_absolue_max))\n",
    "# Calcul de l'erreur relative moyenne \n",
    "erreur_relative_moyenne = np.mean(np.abs(Vecteur_erreur/X_exact))\n",
    "print(\"Erreur relative moyenne (en pourcentage) = {} %\".format(100*erreur_relative_moyenne))\n",
    "# Calcul de l'erreur relative maximale \n",
    "erreur_relative_max = np.linalg.norm(Vecteur_erreur/X_exact,np.inf)\n",
    "print(\"Erreur relative maximale (en pourcentage) = {} %\".format(100*erreur_relative_max))"
   ]
  },
  {
   "cell_type": "markdown",
   "id": "7ad80788",
   "metadata": {},
   "source": [
    "## 2.2 - EXERCICE - A vous de faire avec le cas $n = 12$\n",
    "##### Refaire le test proposé à la section 2.1 pour un système de 12 équations à 12 inconnues\n",
    "##### Représenter graphiquement les solutions et les erreurs\n",
    "##### Conclure sur les résultats du test pour $n=12$"
   ]
  },
  {
   "cell_type": "markdown",
   "id": "c3d2a508",
   "metadata": {},
   "source": [
    "## 2.3 - EXERCICE - Pour aller plus loin \n",
    "\n",
    "##### Vous finirez cette partie chez vous si vous n'avez pas le temps durant la  séance.\n",
    "\n",
    "##### Pour les valeurs de n = 4, 8, 12, 16, 32 et 64 \n",
    " - construire la matrice de Hilbert d'ordre n\n",
    " - calculer le déterminant de la matrice de Hilbert d'ordre n\n",
    " - construire le second membre $Y$ du système tel que la solution exacte du système soit $X=[1;1;...;1]$\n",
    " - calculer numériquement la solution approchée \n",
    " - déterminer le pourcentage d'erreur maximale de la solution approchée par rapport à la solution exacte\n",
    "\n",
    "##### Résumer les résultats de la question précédente dans un tableau à partir duquel vous tracerez un graphique pour présenter les résultats et expliquer vos conclusions"
   ]
  },
  {
   "cell_type": "code",
   "execution_count": null,
   "id": "5ab79ffd",
   "metadata": {},
   "outputs": [],
   "source": []
  }
 ],
 "metadata": {
  "kernelspec": {
   "display_name": "Python 3 (ipykernel)",
   "language": "python",
   "name": "python3"
  },
  "language_info": {
   "codemirror_mode": {
    "name": "ipython",
    "version": 3
   },
   "file_extension": ".py",
   "mimetype": "text/x-python",
   "name": "python",
   "nbconvert_exporter": "python",
   "pygments_lexer": "ipython3",
   "version": "3.9.7"
  }
 },
 "nbformat": 4,
 "nbformat_minor": 5
}
