{
 "cells": [
  {
   "cell_type": "markdown",
   "id": "db01f97f",
   "metadata": {},
   "source": [
    "# Pour vous préparer au TP3 - Méthode des moindres carrés généralisée"
   ]
  },
  {
   "cell_type": "markdown",
   "id": "94aed8e4",
   "metadata": {},
   "source": [
    "## 1 - Consignes\n",
    "Ce TP sera un examen d'une durée de 3h. Il s'agira donc d'un travail personnel, en autonomie, sur un ordinateur du DLST  (sans accès à internet) et régi par les régles suivantes :\n",
    "\n",
    "- $\\color{red}{\\textbf{Téléphone portable et autres objets connectés interdits}}$\n",
    "- $\\color{red}{\\textbf{Aucun document ni fichier autorisé à l'exception des 3 notebooks fournis dans leur état d'origine (sans ajouts): TP1, TP2 et TP3 }}$\n",
    "- Toute tentative d'utiliser un fichier ou un document autre que ceux fournis sera considéré comme une tentative de fraude et traitée en conséquence\n",
    "- Toute consigne/modalité non-respectée sera sanctionnée de points en moins sur la note de votre évaluation "
   ]
  },
  {
   "cell_type": "markdown",
   "id": "f86c4e89",
   "metadata": {},
   "source": [
    "## 2 - Modalités\n",
    "- Enregistrez ce notebook en le nommant TP3_NOM_Prenom.ipynb\n",
    "- Indiquez vos nom, prénom, parcours et groupe dans la cellule suivante"
   ]
  },
  {
   "cell_type": "code",
   "execution_count": 1,
   "id": "4501920e",
   "metadata": {},
   "outputs": [],
   "source": [
    "# NOM :\n",
    "# PRENOM :\n",
    "# PARCOURS & GROUPE : "
   ]
  },
  {
   "cell_type": "markdown",
   "id": "38e28758",
   "metadata": {},
   "source": [
    "- $\\color{red}{\\textbf{Chaque ligne de commande de votre notebook sera expliquée en commentaire}}$\n",
    "- A la fin de la séance, téléchargez ce notebook complété sur le bureau et envoyez-le par email $\\textbf{à partir de votre adresse étudiante}$ en cliquant sur le lien [CLIQUEZ ICI](mailto:arnaud.chauviere@univ-grenoble-alpes.fr)"
   ]
  },
  {
   "cell_type": "markdown",
   "id": "f9b0cb30",
   "metadata": {},
   "source": [
    "## 3 - Rappels\n",
    "\n",
    "### 3.1 - Présentation de la méthode \n",
    "On considère un nuage $\\mathcal{N}$ de $n$ points $(x_i,y_i)_{i\\in\\{1,...,n\\}}$ donné par les vecteurs lignes $X=[x_1\\; x_2  \\;... \\;  x_n]$ pour les abscisses $x_i$ et  $Y=[y_1\\; y_2  \\;... \\;  y_n]$ pour les ordonnées $y_i$.\n",
    "On cherche une fonction $f$ passant au plus près des points du nuage, c'est à dire à approcher les valeurs discrètes des ordonnées $y_i$ par une fonction continue de la forme\n",
    "$$ f(x)= \\displaystyle\\sum_{j=1}^{m} a_j\\,f_j(x) $$\n",
    "où les $m$ fonctions élémentaires $f_j$ sont données. \n",
    "Le problème est donc de déterminer les valeurs des $m$ coefficients $a_j$ tel que le modèle - la fonction $f$ - passe au plus près des points du nuage, en utilisant la \"méthode des moindres carrés\".\n",
    "\n",
    "Cette méthode consiste à minimiser une erreur $J(a_1, a_2,\\ldots,a_m) = \\mid\\mid E\\mid\\mid^2$ où le vecteur $E$ contient les $n$ erreurs locales $(e_i)_{i\\in\\{1,...,n\\}}$ (appelées résidus) :\n",
    "\n",
    "$$\n",
    "E = \\left[ \\begin{array}{c} e_1 \\\\ e_2 \\\\ .. \\\\ e_n \\end{array}\\right] = \\left[ \\begin{array}{c} y_1-f(x_1) \\\\ y_2-f(x_2) \\\\ .. \\\\ y_n-f(x_n) \\end{array}\\right]\n",
    "$$\n",
    "\n",
    "### 3.2 - Méthodologie\n",
    "- Construire la matrice $F$ à $n$ lignes et $m$ colonnes dite \"matrice de régresseurs\" définie par les $n$ lignes\n",
    "$$\n",
    "[f_1(x_i)\\;f_2(x_i)\\; \\ldots f_m(x_i)],\\;\\;i=1,...,n\n",
    "$$\n",
    "où $x_i$ sont les abscisses contenues dans le vecteur $X$.\n",
    "\n",
    "\n",
    "- Calculer la matrice $M=^t\\hspace{-1ex} F\\, F$ et le second membre $B=^t\\hspace{-1ex} F\\, Y$ du système des équations normales $MA=B$, où $A$ est le vecteur inconnu qui contient les $m$ paramètres $a_j$ à déterminer.\n",
    "\n",
    "\n",
    "- Résoudre le système des équations normales et obtenir les valeurs numériques $a_j^*$ pour $j\\in\\{1,\\ldots,m\\}$ des paramètres qui minimisent la distance entre le modèle et les points du nuage."
   ]
  },
  {
   "cell_type": "markdown",
   "id": "ba7afb1c",
   "metadata": {},
   "source": [
    "## 4 - Travail & résultats attendus lors de la séance\n",
    "\n",
    "### 4.1 - Ce que vous devrez faire en python en complétant ce notebook\n",
    "\n",
    "1. Construire et résoudre le système des équations normales associé aux données ci-dessous (section 5)\n",
    "\n",
    "\n",
    "2. Représenter sur la même figure avec titre, légende et nom des axes :\n",
    "    - le nuage $\\mathcal{N}$ de $n$ points\n",
    "    - la courbe continue et lisse du modèle, c'est à dire de la fonction $f(x)$ pour les $m$ valeurs calculées $a_j^*$ des paramètres\n",
    "    - les prévisions du modèle aux abscisses $x_i$ du nuage de points, c'est à dire les $n$ points $(x_i,f(x_i))_{i\\in\\{1,...,n\\}}$\n",
    "\n",
    "\n",
    "3. Construire le vecteur colonne $E$ qui contient les $n$ erreurs locales $e_i=y_i-f(x_i)$\n",
    "\n",
    "\n",
    "4. Afin de discuter de la qualité des prévisions du modèle, calculer les quantités ci-dessous :\n",
    "    - l'erreur globale, c'est à dire le carré de la norme euclidienne du vecteur d'erreur $E$\n",
    "    - la valeur moyenne ${\\mid e\\mid}_{moy}$ des valeurs absolues des erreurs locales\n",
    "    - la valeur maximale ${\\mid e\\mid}_{max}$ des valeurs absolues des erreurs locales\n",
    "\n",
    "\n",
    "### 4.2 - Ce que votre enseignant attend et notera\n",
    "Ce notebook complété tel que : \n",
    "- structuré étape par étape (grace à des cellules séparées)\n",
    "- expliqué avec vos commentaires dans chaque cellule\n",
    "- sans erreur d'exécution\n",
    "\n",
    "et qui \n",
    "- calcule et affiche les valeurs numériques des $m$ paramètres $a_j^*$\n",
    "- affiche les graphes demandées\n",
    "- calcule et affiche les valeurs numériques des erreurs demandées (question 4)\n",
    "\n"
   ]
  },
  {
   "cell_type": "markdown",
   "id": "ce2019db",
   "metadata": {},
   "source": [
    "## 5 - Un exemple de données pour vous entrainer avant la séance"
   ]
  },
  {
   "cell_type": "markdown",
   "id": "12d31dcc",
   "metadata": {},
   "source": [
    "#### Le nuage $\\mathcal{N}$ de $n=6$ points :\n",
    "$$\n",
    "\\begin{array}{rrrrrr}\n",
    "X = [&\n",
    "\\hspace{-3mm} -0.23 & 0.47 & -0.78 & 0.12 & 0.99 & 1.63]\\\\[2mm]\n",
    "Y = [&\n",
    "1.48 & 0.02 & 2.51 & 0.64 & -1.07 & -2.21]\n",
    "\\end{array}\n",
    "$$\n",
    "\n",
    "#### Les $m=2$ fonctions élémentaires du modèle $f(x)$ pour faire le cas particulier de la régression linéaire : \n",
    "$$\n",
    "f_1(x) = x \\quad \\mbox{et} \\quad f_2(x) = 1\n",
    "$$"
   ]
  },
  {
   "cell_type": "code",
   "execution_count": 3,
   "id": "41cca19d",
   "metadata": {},
   "outputs": [
    {
     "name": "stdout",
     "output_type": "stream",
     "text": [
      "X = [-0.23  0.47 -0.78  0.12  0.99  1.63]\n",
      "Y = [ 1.48  0.02  2.51  0.64 -1.07 -2.21]\n",
      "F = \n",
      " [[-0.23  1.  ]\n",
      " [ 0.47  1.  ]\n",
      " [-0.78  1.  ]\n",
      " [ 0.12  1.  ]\n",
      " [ 0.99  1.  ]\n",
      " [ 1.63  1.  ]]\n",
      "Taille = (6, 2)\n"
     ]
    }
   ],
   "source": [
    "import matplotlib.pyplot as plt\n",
    "import numpy as np\n",
    "\n",
    "#Je vais crée les vecteurs en ligne de X et Y donnée\n",
    "\n",
    "X = np.array([-0.23, 0.47, -0.78, 0.12, 0.99, 1.63])\n",
    "Y = np.array([1.48, 0.02, 2.51, 0.64, -1.07, -2.21])\n",
    "\n",
    "print (\"X = {}\".format(X))\n",
    "print (\"Y = {}\".format(Y))\n",
    "\n",
    "#Créeons la matrice F de 2 colonnes et 6 lignes\n",
    "F = np.ones((6,2))\n",
    "F[:,0]=X\n",
    "\n",
    "print (\"F = \\n {}\".format(F))\n",
    "print (\"Taille = {}\".format(np.shape(F)))\n"
   ]
  },
  {
   "cell_type": "code",
   "execution_count": 4,
   "id": "67093e7e",
   "metadata": {},
   "outputs": [
    {
     "name": "stdout",
     "output_type": "stream",
     "text": [
      "M = [[4.5336 2.2   ]\n",
      " [2.2    6.    ]]\n",
      "B = [-6.8736  1.37  ]\n"
     ]
    }
   ],
   "source": [
    "#Calculons la matrice M\n",
    "M = F.T@F\n",
    "print (\"M = {}\".format(M))\n",
    "\n",
    "#Calculons la matrice B\n",
    "\n",
    "B = F.T@Y\n",
    "print (\"B = {}\".format(B))"
   ]
  },
  {
   "cell_type": "code",
   "execution_count": 5,
   "id": "c1e7576e",
   "metadata": {},
   "outputs": [
    {
     "name": "stdout",
     "output_type": "stream",
     "text": [
      "La solution = A =[-1.97908915  0.95399936]\n",
      "M*A = [-6.8736  1.37  ] ce qui correspond aux valeur B\n"
     ]
    }
   ],
   "source": [
    "#Determinons A le vecteur inconnu\n",
    "\n",
    "A = np.linalg.solve(M, B)\n",
    "print(\"La solution = A ={}\".format(A))\n",
    "\n",
    "#Pour verifer\n",
    "print(\"M*A = {} ce qui correspond aux valeur B\".format(np.dot(M,A)))"
   ]
  },
  {
   "cell_type": "code",
   "execution_count": 10,
   "id": "a428c4a3",
   "metadata": {},
   "outputs": [
    {
     "data": {
      "image/png": "[encoded data removed]",
      "text/plain": [
       "<Figure size 432x288 with 1 Axes>"
      ]
     },
     "metadata": {
      "needs_background": "light"
     },
     "output_type": "display_data"
    }
   ],
   "source": [
    "#Intervalle sur x\n",
    "a = -1\n",
    "b = 2\n",
    "#Nombre de points sur l'intervalle\n",
    "N = 1000\n",
    "\n",
    "x1 = np.linspace(a, b, N)\n",
    "\n",
    "#\n",
    "y1 = -1.97908915*x1 + 0.95399936\n",
    "\n",
    "y2 = -1.97908915*X + 0.95399936\n",
    "\n",
    "#droite de F(X)\n",
    "plt.plot(x1, y1, \"g\", label = \"F(X)\")\n",
    "\n",
    "#Nuage de points N\n",
    "plt.plot(X, Y, \"ob\", label = \"Nuage de N\")\n",
    "\n",
    "#Valeurs théorique de N\n",
    "plt.plot(X, y2, \"+r\", label = \" Point de N modèle\")\n",
    "\n",
    "plt.title(\"N\")\n",
    "plt.xlabel(\"abscisses X\")\n",
    "plt.ylabel(\"ordonnées Y\")\n",
    "plt.legend()\n",
    "plt.show()"
   ]
  },
  {
   "cell_type": "code",
   "execution_count": 7,
   "id": "1bca1524",
   "metadata": {},
   "outputs": [
    {
     "name": "stdout",
     "output_type": "stream",
     "text": [
      "[ 0.07081014 -0.00382746  0.0123111  -0.07650866 -0.0647011   0.06191595]\n"
     ]
    }
   ],
   "source": [
    "E = np.array(Y-y2)\n",
    "print (E)"
   ]
  },
  {
   "cell_type": "code",
   "execution_count": 9,
   "id": "ddacaa55",
   "metadata": {},
   "outputs": [
    {
     "name": "stdout",
     "output_type": "stream",
     "text": [
      "-6.000000124517513e-08\n"
     ]
    }
   ],
   "source": [
    "erreurglobale=0\n",
    "n=6\n",
    "\n",
    "for i in range(n):\n",
    "    Eglobale = erreurglobale + E[i] + E[i]\n",
    "    erreurglobale = Eglobale\n",
    "print (Eglobale)"
   ]
  },
  {
   "cell_type": "code",
   "execution_count": null,
   "id": "5c688987",
   "metadata": {},
   "outputs": [],
   "source": []
  }
 ],
 "metadata": {
  "kernelspec": {
   "display_name": "Python 3 (ipykernel)",
   "language": "python",
   "name": "python3"
  },
  "language_info": {
   "codemirror_mode": {
    "name": "ipython",
    "version": 3
   },
   "file_extension": ".py",
   "mimetype": "text/x-python",
   "name": "python",
   "nbconvert_exporter": "python",
   "pygments_lexer": "ipython3",
   "version": "3.9.7"
  }
 },
 "nbformat": 4,
 "nbformat_minor": 5
}
