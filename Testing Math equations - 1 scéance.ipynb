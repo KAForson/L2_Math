{
 "cells": [
  {
   "cell_type": "code",
   "execution_count": 21,
   "id": "4641d727",
   "metadata": {
    "scrolled": true
   },
   "outputs": [
    {
     "name": "stdout",
     "output_type": "stream",
     "text": [
      "u = \n",
      "[[4]\n",
      " [2]]\n",
      "b = [[-1  2]]\n"
     ]
    }
   ],
   "source": [
    "import numpy as np\n",
    "\n",
    "# incorrect - must be the transposé of u to be able to multiply vecteurs\n",
    "u = np.array([[4], [2]])\n",
    "print (\"u = \\n{}\".format(u))\n",
    "\n",
    "b = np.array([[-1, 2]])\n",
    "print (\"b = {}\".format(b))"
   ]
  },
  {
   "cell_type": "code",
   "execution_count": 13,
   "id": "be533c46",
   "metadata": {},
   "outputs": [
    {
     "ename": "ValueError",
     "evalue": "matmul: Input operand 1 has a mismatch in its core dimension 0, with gufunc signature (n?,k),(k,m?)->(n?,m?) (size 2 is different from 1)",
     "output_type": "error",
     "traceback": [
      "\u001b[0;31m---------------------------------------------------------------------------\u001b[0m",
      "\u001b[0;31mValueError\u001b[0m                                Traceback (most recent call last)",
      "\u001b[0;32m/tmp/ipykernel_71/2595795937.py\u001b[0m in \u001b[0;36m<module>\u001b[0;34m\u001b[0m\n\u001b[0;32m----> 1\u001b[0;31m \u001b[0mu\u001b[0m\u001b[0;34m@\u001b[0m\u001b[0mb\u001b[0m\u001b[0;34m\u001b[0m\u001b[0;34m\u001b[0m\u001b[0m\n\u001b[0m",
      "\u001b[0;31mValueError\u001b[0m: matmul: Input operand 1 has a mismatch in its core dimension 0, with gufunc signature (n?,k),(k,m?)->(n?,m?) (size 2 is different from 1)"
     ]
    }
   ],
   "source": [
    "u@b"
   ]
  },
  {
   "cell_type": "code",
   "execution_count": 27,
   "id": "0cc19dc2",
   "metadata": {},
   "outputs": [
    {
     "name": "stdout",
     "output_type": "stream",
     "text": [
      "u = [[4 2]]\n",
      "b*T = \n",
      "[[-1]\n",
      " [ 2]]\n",
      "Taille = (1, 2)\n",
      "Taille = (2, 1)\n"
     ]
    }
   ],
   "source": [
    "u = np.array([[4, 2]])\n",
    "print (\"u = {}\".format(u))\n",
    "\n",
    "b = np.array([[-1, 2]])\n",
    "print (\"b*T = \\n{}\".format(b.T))\n",
    "\n",
    "print(\"Taille = {}\".format(np.shape(u)))\n",
    "print(\"Taille = {}\".format(np.shape(b.T)))"
   ]
  },
  {
   "cell_type": "code",
   "execution_count": 29,
   "id": "04a8abde",
   "metadata": {},
   "outputs": [
    {
     "data": {
      "text/plain": [
       "array([[-4, -2],\n",
       "       [ 8,  4]])"
      ]
     },
     "execution_count": 29,
     "metadata": {},
     "output_type": "execute_result"
    }
   ],
   "source": [
    "b.T@u"
   ]
  },
  {
   "cell_type": "code",
   "execution_count": 30,
   "id": "a9e0dcfe",
   "metadata": {},
   "outputs": [
    {
     "data": {
      "text/plain": [
       "array([[0]])"
      ]
     },
     "execution_count": 30,
     "metadata": {},
     "output_type": "execute_result"
    }
   ],
   "source": [
    "u@b.T"
   ]
  },
  {
   "cell_type": "code",
   "execution_count": null,
   "id": "265ce5bc",
   "metadata": {},
   "outputs": [],
   "source": []
  }
 ],
 "metadata": {
  "kernelspec": {
   "display_name": "Python 3 (ipykernel)",
   "language": "python",
   "name": "python3"
  },
  "language_info": {
   "codemirror_mode": {
    "name": "ipython",
    "version": 3
   },
   "file_extension": ".py",
   "mimetype": "text/x-python",
   "name": "python",
   "nbconvert_exporter": "python",
   "pygments_lexer": "ipython3",
   "version": "3.9.7"
  }
 },
 "nbformat": 4,
 "nbformat_minor": 5
}
