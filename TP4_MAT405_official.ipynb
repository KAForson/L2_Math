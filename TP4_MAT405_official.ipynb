{
 "cells": [
  {
   "cell_type": "markdown",
   "id": "d9473450",
   "metadata": {},
   "source": [
    "# TP4 - Diagonalisation et SVD \n",
    "\n",
    "#### Les objectifs de ce quatrième TP sont de se familiariser avec\n",
    " - la diagonalisation de matrices (partie 1) - durée recommandée 1h30\n",
    " - la décomposition en valeurs singulières - SVD - et ses applications vues en cours (partie 2) - durée recommandée 1h30\n",
    "\n",
    "#### Méthodologie\n",
    " - exécuter les cellules pour comprendre ce qui est programmé et comment\n",
    " - répondre aux questions en refaisant par vous-même\n",
    " - prendre le temps de travailler en dehors des séances pour assimiler les connaissances"
   ]
  },
  {
   "cell_type": "code",
   "execution_count": null,
   "id": "108b0857",
   "metadata": {},
   "outputs": [],
   "source": [
    "## Importation des librairies nécessaires au TP\n",
    "import numpy as np\n",
    "import matplotlib.pyplot as plt\n",
    "from scipy.linalg import svd"
   ]
  },
  {
   "cell_type": "markdown",
   "id": "e458d291",
   "metadata": {},
   "source": [
    "# 1 - La diagonalisation par l'exemple"
   ]
  },
  {
   "cell_type": "markdown",
   "id": "eb621774",
   "metadata": {},
   "source": [
    "## 1.1 - Un exemple en exercice corrigé\n",
    "\n",
    "On considère la matrice\n",
    "$$\n",
    "A=\\displaystyle \\left[\\begin{array}{ccc}\n",
    "1&2&2\\\\\n",
    "0&0&0\\\\\n",
    "0&2&2\\\\\n",
    "\\end{array}\\right]\n",
    "$$\n",
    "\n",
    "pour laquelle nous allons numériquement\n",
    "\n",
    "1. déterminer :\n",
    "    - les éléments propres\n",
    "    - les matrices $P$ (inversible) et $D$ (diagonale) requises pour la diagonalisation $A= P\\,D\\,P^{-1}$\n",
    "\n",
    "\n",
    "2. vérifer un certain nombre de propriétés théoriques   \n",
    "\n",
    "Il s'agit de la matrice de l'[exercice corrigé](https://moodle.caseine.org/pluginfile.php/143505/mod_resource/content/0/diagonalisation.pdf)\n",
    "proposé sur le caséine de l'UE et pour laquelle toutes les questions ont été traitées analytiquement.\n",
    "Vous pourrez donc comparer les résultats analytiques avec les résultats numériques."
   ]
  },
  {
   "cell_type": "markdown",
   "id": "4c09ac24",
   "metadata": {},
   "source": [
    "#### En suivant la méthode analytique étape par étape"
   ]
  },
  {
   "cell_type": "code",
   "execution_count": null,
   "id": "224c51ba",
   "metadata": {},
   "outputs": [],
   "source": [
    "## Matrice A :\n",
    "#################\n",
    "A = np.array([[1,2,2],[0,0,0],[0,2,2]])\n",
    "n = np.shape(A)[0]\n",
    "print(\"A = \\n{}\".format(A))"
   ]
  },
  {
   "cell_type": "code",
   "execution_count": null,
   "id": "ee7a36a9",
   "metadata": {},
   "outputs": [],
   "source": [
    "## Ne pas chercher à comprendre cette fonction ##\n",
    "#################################################\n",
    "## Elle sert à afficher un polynome avec les coefficients des puissances de x\n",
    "def Polynome_a_afficher(P):\n",
    "    res = \"\"\n",
    "    n = len(P)\n",
    "    for i in range(len(P)):\n",
    "        tmp = \"(\" + str(P[i]) + \")x^\" + str(n-1-i)\n",
    "        res = res + tmp\n",
    "        if i < n-1 :\n",
    "            res = res + \" + \"\n",
    "    return res"
   ]
  },
  {
   "cell_type": "code",
   "execution_count": null,
   "id": "5cc042c9",
   "metadata": {},
   "outputs": [],
   "source": [
    "## Polynôme caractéristique P_A = det(A-x*Id) et ses racines\n",
    "###############################################################\n",
    "##\n",
    "## Calcul des coefficients du polynôme caractéristique dans la base canonique\n",
    "P_A = - np.poly(A)\n",
    "print(\"Les coefficients des puissances de x décroissantes du polynome sont :{}\\n\".format(P_A))\n",
    "## Affichage du polynôme caractéristique \n",
    "print(\"Le polynôme est P_A(x) = {}\\n\".format(Polynome_a_afficher(P_A)))\n",
    "##\n",
    "## Calcul des racines du polynôme \n",
    "racines_P_A = np.roots(P_A)\n",
    "## Affichage des racines du polynomes\n",
    "deg_P_A = len(racines_P_A)\n",
    "print(\"Les {} racines du polynôme caractéristique sont :\".format(deg_P_A))\n",
    "for i in range(deg_P_A):\n",
    "    print(\"racine {} : {}\".format(i+1,racines_P_A[i]))"
   ]
  },
  {
   "cell_type": "code",
   "execution_count": null,
   "id": "638eb0a8",
   "metadata": {},
   "outputs": [],
   "source": [
    "## Valeurs propres de la matrice A\n",
    "##################################\n",
    "valeurs_propres = np.linalg.eigvals(A)\n",
    "print(\"Les {} valeurs propres de la matrice A sont :\".format(len(valeurs_propres)))\n",
    "for i in range(len(valeurs_propres)):\n",
    "    print(\"Valeur propre {} : {}\".format(i+1,valeurs_propres[i]))\n",
    "## ATTENTION\n",
    "## Remarquez que l'ordre n'est pas nécessairement le même que celui que nous avons choisi analytiquement... !!    "
   ]
  },
  {
   "cell_type": "markdown",
   "id": "5fc07f8f",
   "metadata": {},
   "source": [
    "##### Questions\n",
    "- Que cherchent à faire les commandes de la cellule ci-dessous?\n",
    "- pourquoi l'exécution donne-t-elle le message d'erreur \"Singular matrix\" (NB : \"singulière\" veut dire \"non-inversible\")"
   ]
  },
  {
   "cell_type": "code",
   "execution_count": null,
   "id": "43b39894",
   "metadata": {},
   "outputs": [],
   "source": [
    "## Vecteurs propres de la matrice A\n",
    "###################################\n",
    "## Pour la première valeur propre \n",
    "n = deg_P_A\n",
    "M=A-racines_P_A[0]*np.eye(n)\n",
    "B=np.zeros(n)\n",
    "print(\"M = \\n{}\".format(M))\n",
    "np.linalg.solve(M, B)"
   ]
  },
  {
   "cell_type": "markdown",
   "id": "16d8c918",
   "metadata": {},
   "source": [
    "#### En utilisant la commande \"eig\" de la librairie numpy (que nous ferons toujours par la suite)"
   ]
  },
  {
   "cell_type": "code",
   "execution_count": null,
   "id": "6cc70158",
   "metadata": {},
   "outputs": [],
   "source": [
    "## Calcul des éléments propres de la matrice A\n",
    "###############################################\n",
    "valeurs_propres,vecteurs_propres = np.linalg.eig(A)\n",
    "print(\"Les valeurs propres de A sont {}\".format(valeurs_propres))\n",
    "print(\"Les vecteurs propres (en colonnes) de A sont\\n{}\".format(vecteurs_propres))"
   ]
  },
  {
   "cell_type": "markdown",
   "id": "2e9ad740",
   "metadata": {},
   "source": [
    "##### Question\n",
    "A quoi correspond la vérification ci-dessous?"
   ]
  },
  {
   "cell_type": "code",
   "execution_count": null,
   "id": "42e7701d",
   "metadata": {},
   "outputs": [],
   "source": [
    "## Un exemple de vérification :\n",
    "u_1 = vecteurs_propres[:, 0]\n",
    "lambda_1 = valeurs_propres[0]\n",
    "print(\"A*v = {}\".format(A@u_1))\n",
    "print(\"lambda*v = {}\".format(lambda_1*u_1))"
   ]
  },
  {
   "cell_type": "markdown",
   "id": "5eddc3db",
   "metadata": {},
   "source": [
    "##### Question\n",
    "Expliquer les valeurs affichées ci-dessous et leur signification"
   ]
  },
  {
   "cell_type": "code",
   "execution_count": null,
   "id": "ccf9a309",
   "metadata": {},
   "outputs": [],
   "source": [
    "u_2 = vecteurs_propres[:, 1]\n",
    "print(np.dot(u_1,u_2))\n",
    "print(np.round(np.linalg.norm(u_2,2)))\n",
    "## remarque : la commande np.round permet d'avoir un arrondi d'une valeur réelle\n",
    "?np.round"
   ]
  },
  {
   "cell_type": "code",
   "execution_count": null,
   "id": "a6b03117",
   "metadata": {},
   "outputs": [],
   "source": [
    "## Diagonalisation de la matrice A \n",
    "###################################\n",
    "## Une fois effectuée la commande \"valeurs_propres,vecteurs_propres = np.linalg.eig(A)\"\n",
    "D = np.diag(valeurs_propres)\n",
    "P = vecteurs_propres"
   ]
  },
  {
   "cell_type": "markdown",
   "id": "e1bbc87f",
   "metadata": {},
   "source": [
    "##### Questions\n",
    "A quoi correspondent les deux vérifications ci-dessous?"
   ]
  },
  {
   "cell_type": "code",
   "execution_count": null,
   "id": "44c6e1a8",
   "metadata": {},
   "outputs": [],
   "source": [
    "## Un exemple de vérification :\n",
    "print(\"{} est différent de 0\".format(np.linalg.det(P)))\n",
    "## Un exemple de vérification :\n",
    "print(A-P@D@np.linalg.inv(P))"
   ]
  },
  {
   "cell_type": "markdown",
   "id": "e20b153e",
   "metadata": {},
   "source": [
    "##### Questions\n",
    "A quoi correspondent les deux vérifications ci-dessous?"
   ]
  },
  {
   "cell_type": "code",
   "execution_count": null,
   "id": "74a8ca92",
   "metadata": {},
   "outputs": [],
   "source": [
    "## Un exemple de vérification :\n",
    "print(\"{} = {}\".format(np.linalg.det(A),np.linalg.det(D)))\n",
    "## Un exemple de vérification :\n",
    "print(\"{} = {}\".format(np.trace(A),np.trace(D)))"
   ]
  },
  {
   "cell_type": "markdown",
   "id": "8c2dbaa7",
   "metadata": {},
   "source": [
    "## 1.2 -------- EXERCICE - Diagonalisation de la matrice de Hilbert d'ordre 4\n",
    "On rappelle (voir TP2) que la matrice de Hilbert d'ordre $n=4$ est\n",
    "$$\n",
    "\\displaystyle \n",
    "H=\\left(\n",
    "\\begin{array}{cccc}\n",
    "1 & 1/2 & 1/3 & 1/4\\\\\n",
    "1/2 & 1/3 & 1/4 & 1/5\\\\\n",
    "1/3 & 1/4 & 1/5 & 1/6\\\\\n",
    "1/4 & 1/5 & 1/6 & 1/7\\\\\n",
    "\\end{array}\n",
    "\\right)\n",
    "$$"
   ]
  },
  {
   "cell_type": "markdown",
   "id": "267ae4b5",
   "metadata": {},
   "source": [
    "#### Question 1\n",
    "Quelle propriété de la matrice $H$ permet de justifier sans calcul qu'elle est diagonalisable?"
   ]
  },
  {
   "cell_type": "code",
   "execution_count": null,
   "id": "882d05f9",
   "metadata": {},
   "outputs": [],
   "source": []
  },
  {
   "cell_type": "markdown",
   "id": "1f7813b4",
   "metadata": {},
   "source": [
    "#### Question 2\n",
    "Calculer numériquement les valeurs propres de la matrice $H$"
   ]
  },
  {
   "cell_type": "code",
   "execution_count": null,
   "id": "d39f5a80",
   "metadata": {},
   "outputs": [],
   "source": []
  },
  {
   "cell_type": "markdown",
   "id": "ed1fcb6e",
   "metadata": {},
   "source": [
    "#### Question 3\n",
    "Déterminer numériquement les matrices $P$ et $D$ telles que $H= P\\,D\\,P^{-1}$"
   ]
  },
  {
   "cell_type": "code",
   "execution_count": null,
   "id": "4a883841",
   "metadata": {},
   "outputs": [],
   "source": []
  },
  {
   "cell_type": "markdown",
   "id": "1db0bbf7",
   "metadata": {},
   "source": [
    "#### Question 4\n",
    "Calculer le déterminant de la matrice $H$ à partir de ses valeurs propres"
   ]
  },
  {
   "cell_type": "code",
   "execution_count": null,
   "id": "422ac59b",
   "metadata": {},
   "outputs": [],
   "source": []
  },
  {
   "cell_type": "markdown",
   "id": "a1b11ecf",
   "metadata": {},
   "source": [
    "#### Question 5\n",
    "Lister toutes les propriétés de la matrice de passage $P$ en séparant :\n",
    "- celles obligatoires \n",
    "- celle(s) que l'on peut imposer "
   ]
  },
  {
   "cell_type": "code",
   "execution_count": null,
   "id": "69482633",
   "metadata": {},
   "outputs": [],
   "source": []
  },
  {
   "cell_type": "markdown",
   "id": "8c01cad3",
   "metadata": {},
   "source": [
    "#### Question 6\n",
    "Vérifier par un calcul numérique que les 4 vecteurs colonnes de la matrice $P$ forment une base orthonormale de $\\mathbb{R}^4$."
   ]
  },
  {
   "cell_type": "code",
   "execution_count": null,
   "id": "7481c811",
   "metadata": {},
   "outputs": [],
   "source": []
  },
  {
   "cell_type": "markdown",
   "id": "4177dda7",
   "metadata": {},
   "source": [
    "#### Question 7\n",
    "Vérifier par un calcul numérique que la matrice $P$ est orthogonale."
   ]
  },
  {
   "cell_type": "code",
   "execution_count": null,
   "id": "a4c6e7c3",
   "metadata": {},
   "outputs": [],
   "source": []
  },
  {
   "cell_type": "markdown",
   "id": "bd56bc8a",
   "metadata": {},
   "source": [
    "# 2 - Décomposition en valeurs singulières - SVD\n",
    "\n",
    "Vous pouvez accèder aux [notes de cours sur la SVD ici](https://moodle.caseine.org/pluginfile.php/181980/mod_resource/content/1/SVD.pdf)."
   ]
  },
  {
   "cell_type": "markdown",
   "id": "7459af91",
   "metadata": {},
   "source": [
    "## 2.1 - SVD & conditionnement de la matrice de Hilbert"
   ]
  },
  {
   "cell_type": "code",
   "execution_count": null,
   "id": "0fbfb670",
   "metadata": {},
   "outputs": [],
   "source": [
    "## En reprenant l'exercice 1.2, on définit la matrice de Hilbert d'ordre 4\n",
    "n=4\n",
    "H=np.zeros((n,n))\n",
    "for i in range(n):\n",
    "    for j in range(n):\n",
    "        H[i,j]=1./((i+1)+(j+1)-1) \n",
    "## Decomposition en valeurs singulières de H \n",
    "U, sigma, tV = svd(H)\n",
    "##\n",
    "print(\"\\n-> Matrice orthogonale U\")\n",
    "print(U)\n",
    "#\n",
    "print(\"\\n-> Matrice diagonale S\")\n",
    "S = np.diag(sigma)\n",
    "print(S)\n",
    "#\n",
    "print(\"\\n-> Matrice orthogonale transposée de V\")\n",
    "print(tV)"
   ]
  },
  {
   "cell_type": "markdown",
   "id": "1400b620",
   "metadata": {},
   "source": [
    "##### Questions\n",
    "A quoi correspondent les trois vérifications ci-dessous?"
   ]
  },
  {
   "cell_type": "code",
   "execution_count": null,
   "id": "f51a927d",
   "metadata": {},
   "outputs": [],
   "source": [
    "## Un exemple de vérification :\n",
    "print(\"\\n Vérification 1 :\")\n",
    "print(np.round(U@U.T))\n",
    "## Un exemple de vérification :\n",
    "print(\"\\n Vérification 2 :\")\n",
    "print(np.round(tV@tV.T))\n",
    "## Un exemple de vérification :\n",
    "print(\"\\n Vérification 3 :\")\n",
    "print(np.round(H-U@S@tV))"
   ]
  },
  {
   "cell_type": "code",
   "execution_count": null,
   "id": "8cd723e8",
   "metadata": {},
   "outputs": [],
   "source": [
    "## Calcul de la valeur du conditionnement de la matrice H\n",
    "Conditionnement_H_python= np.linalg.cond(H)\n",
    "print(\"Le conditionnement obtenu directemement en python est : {} \".format(Conditionnement_H_python))"
   ]
  },
  {
   "cell_type": "markdown",
   "id": "ae914923",
   "metadata": {},
   "source": [
    "##### Question\n",
    "Calculer le conditionnement de la matrice de Hilbert d'ordre 4 par la formule du cours\n",
    "$\n",
    "cond(H) = \\sigma_1/\\sigma_4\n",
    "$\n",
    "où\n",
    "- $\\sigma_1$ est la plus grande valeur singulière de $H$ \n",
    "- $\\sigma_4$ est la plus petite valeur singulière de $H$\n",
    "\n",
    "Puis vérifier votre résultat avec la valeur obtenue par la commande `np.linalg.cond(H)`"
   ]
  },
  {
   "cell_type": "code",
   "execution_count": null,
   "id": "41aa81e5",
   "metadata": {},
   "outputs": [],
   "source": [
    "## A VOUS DE FAIRE"
   ]
  },
  {
   "cell_type": "markdown",
   "id": "fae7ebd4",
   "metadata": {},
   "source": [
    "##### Question\n",
    "Expliquer pourquoi la matrice de Hilbert est mal conditionnée"
   ]
  },
  {
   "cell_type": "code",
   "execution_count": null,
   "id": "83cd96b7",
   "metadata": {},
   "outputs": [],
   "source": [
    "## A VOUS DE FAIRE"
   ]
  },
  {
   "cell_type": "markdown",
   "id": "d799f1c4",
   "metadata": {},
   "source": [
    "## 2.2 - Comprendre la SVD \"à la main\" - exemple de la matrice de Hilbert"
   ]
  },
  {
   "cell_type": "markdown",
   "id": "1e8363d6",
   "metadata": {},
   "source": [
    "On se propose dans cette section de faire la décomposition en valeurs singulières de la matrice de Hilbert \"à la main\", c'est à dire de suivre les étapes proposées dans le cours.\n",
    "\n",
    "Vous pouvez aussi vous remémorer ces étapes et les formules dans l'[exercice corrigé sur la SVD](https://moodle.caseine.org/pluginfile.php/180381/mod_resource/content/2/Seance.06.pdf)"
   ]
  },
  {
   "cell_type": "code",
   "execution_count": null,
   "id": "c5a60465",
   "metadata": {},
   "outputs": [],
   "source": [
    "## Décomposition en valeurs singulières - La théorie de la SVD pour H\n",
    "#####################################################################\n",
    "## 1] Diagonalisation de la matrice B définie par tH * H\n",
    "## ---> Obtention des matrices S et V\n",
    "#####################################\n",
    "## Calcul de la matrice B = tH * H\n",
    "B = H.T@H\n",
    "## Calcul des éléments propres de B\n",
    "valeurs_propres_B,vecteurs_propres_B = np.linalg.eig(B)\n",
    "D_B = np.diag(valeurs_propres_B)\n",
    "P_B = vecteurs_propres_B\n",
    "##\n",
    "## Avec les notations de la SVD de H, on en déduit :\n",
    "## 1) les valeurs singulières de H qui dont les racines carrées de valeurs propres de B\n",
    "##    ce qui permet de construire la matrice S\n",
    "##    Remarque : on nomme cette matrice S_H pour la comparer à la matrice S obtenue à la section 2.1\n",
    "S_H = np.sqrt(D_B)\n",
    "## 2) la matrice V (notée ici V_H) definie comme la matrice de passage de la diagonalisation de B\n",
    "V_H = P_B"
   ]
  },
  {
   "cell_type": "code",
   "execution_count": null,
   "id": "9a05e813",
   "metadata": {},
   "outputs": [],
   "source": [
    "##############################################################\n",
    "## 2] Diagonalisation de la matrice C définie par H * tH\n",
    "## ---> Vérification des valeurs singulières\n",
    "############################################\n",
    "## Calcul de la matrice C = H * tH\n",
    "C = H@H.T\n",
    "## Calcul des éléments propres de C\n",
    "valeurs_propres_C,vecteurs_propres_C = np.linalg.eig(C)\n",
    "D_C = np.diag(valeurs_propres_C)\n",
    "## On peut alors vérifier que les valeurs propres de B et de C sont bien identiques\n",
    "## Elles sont contenues dans les matrices diagonales D_B et D_C\n",
    "## et permettent donc de définir les valeurs singulières comme leurs racines carrées\n",
    "print(np.round(D_B-D_C))"
   ]
  },
  {
   "cell_type": "code",
   "execution_count": null,
   "id": "9cee6495",
   "metadata": {},
   "outputs": [],
   "source": [
    "##############################################################\n",
    "## 3] Obtention de la matrice U\n",
    "################################\n",
    "## Cette matrice est donnée par une formule dans le cours...\n",
    "## Remarque : on nomme cette matrice U_H pour la comparer à la matrice U obtenue à la section 2.1\n",
    "U_H=np.zeros((n,n))\n",
    "for j in range(n):\n",
    "    U_H[:,j]=H@V_H[:,j]/S_H[j,j]"
   ]
  },
  {
   "cell_type": "markdown",
   "id": "d034b71e",
   "metadata": {},
   "source": [
    "####  Question 1\n",
    "Vérifier la diagonalisation de la matrice $B$ par un calcul numérique, c'est à dire que $B=P_B D_B P_B^{-1}$"
   ]
  },
  {
   "cell_type": "code",
   "execution_count": null,
   "id": "dbe44c6b",
   "metadata": {},
   "outputs": [],
   "source": []
  },
  {
   "cell_type": "markdown",
   "id": "b80e441d",
   "metadata": {},
   "source": [
    "#### Question 2\n",
    "Vérifier que la matrice $U_H$ est bien une matrice de passage pour la diagonalisation de $C$, c'est à dire que $C = U_H\\,D_C\\, U_H^{-1}$"
   ]
  },
  {
   "cell_type": "code",
   "execution_count": null,
   "id": "063b8545",
   "metadata": {},
   "outputs": [],
   "source": []
  },
  {
   "cell_type": "markdown",
   "id": "f0aa090b",
   "metadata": {},
   "source": [
    "#### Question 3\n",
    "Vérifier la décomposition en valeurs singulières de la matrice $H$, c'est à dire que $H = U_H\\, S_H\\, ^t\\hspace{-0.2mm}V_H$"
   ]
  },
  {
   "cell_type": "code",
   "execution_count": null,
   "id": "3cb3bfee",
   "metadata": {},
   "outputs": [],
   "source": []
  },
  {
   "cell_type": "markdown",
   "id": "c5ff910d",
   "metadata": {},
   "source": [
    "#### Question 4\n",
    "Comparer les matrices \n",
    "$$(U,S,\\,^t\\hspace{-0.2mm}V)$$ obtenues à la section 2.1 par la commande `svd(H)`\n",
    "avec les matrices\n",
    "$$(U_H,S_H,\\,^t\\hspace{-0.2mm}V_H)$$ obtenues ci-dessus \"à la main\".\n",
    "\n",
    "* La SVD obtenue par la commande `svd(H)` est-elle la même que celle obtenue par vos calculs?\n",
    "* Quelles différences observez-vous et pourquoi sont-elles cohérentes ?"
   ]
  },
  {
   "cell_type": "code",
   "execution_count": null,
   "id": "f3f47a5e",
   "metadata": {},
   "outputs": [],
   "source": []
  },
  {
   "cell_type": "markdown",
   "id": "b01a1b8e",
   "metadata": {},
   "source": [
    "#### Testez votre compréhension en répondant aux questions suivantes \n",
    "\n",
    "En ayant défini les matrices $B=\\, ^t\\hspace{-0.7mm}H\\,H$ et $C=H\\,^t\\hspace{-0.7mm}H$ :\n",
    "- Quelles propriétés possèdent les valeurs propres des matrices $B$ et $C$?\n",
    "- Comment définit-on les valeurs singulières de la matrice $H$?\n",
    "- Comment sont définies les matrices $U$, $S$ et $V$ qui forment la décomposition de $H$ en valeurs singulières, c'est à dire sous la forme $H=U\\,S\\,^t\\hspace{-0.2mm}V$?\n",
    "- Quelle(s) propriété(s) possèdent les matrices $U$ et $V$?\n",
    "- La décomposition de $H$ en valeurs singulières est-elle unique?  (expliquez votre réponse)\n",
    "\n",
    "#### $\\color{red}{\\textbf{Et pour ceux qui ont tout compris...}}$\n",
    "- Vérifier et expliquer pourquoi les valeurs propres et les valeurs singulières de la matrice $H$ sont égales"
   ]
  },
  {
   "cell_type": "markdown",
   "id": "21ebd2fd",
   "metadata": {},
   "source": [
    "## 2.3 - SVD de Sam le lapin (illustration du cours)"
   ]
  },
  {
   "cell_type": "code",
   "execution_count": null,
   "id": "e6b28c9a",
   "metadata": {},
   "outputs": [],
   "source": [
    "## Afichage de l'image originale de SAM\n",
    "A = np.loadtxt(\"sam.csv\", delimiter=\"\\t\", dtype=int)\n",
    "fig, ax = plt.subplots()\n",
    "ax.imshow(A, cmap=\"Greys_r\")"
   ]
  },
  {
   "cell_type": "code",
   "execution_count": null,
   "id": "0e1535c2",
   "metadata": {},
   "outputs": [],
   "source": [
    "## SVD de la matrice A\n",
    "U, sigma, tV = svd(A)\n",
    "B = np.zeros_like(A)\n",
    "## Nombre de valeurs singulières considérées pour la reconstuction de Sam le lapin dans {1,2,..., n =512}\n",
    "s=10\n",
    "for i in range(s):\n",
    "    ## Attention : en python np.array(U[:,i]]) donne les valeurs de la colonne i-1 du tableau U\n",
    "    ## c'est a dire la colonne i de la matrice U\n",
    "    ## mais en tableau mono-dimensionnel et donc en ligne alors qu'on le veut en vecteur colonne\n",
    "    colonne_i_U = np.array([U[:,i]]).T\n",
    "    ligne_i_tV = np.array([tV[i,:]])\n",
    "    ## Création de la matrice B approchée de A\n",
    "    B = B + sigma[i] * colonne_i_U @ ligne_i_tV\n",
    "    fig, ax = plt.subplots()\n",
    "    #print('Reconstruction pour {} valeurs singulières'.format(i))\n",
    "    plt.title(f'Reconstruction pour {i+1} valeurs singulières\\n')\n",
    "    ax.imshow(B, cmap=\"Greys_r\")"
   ]
  },
  {
   "cell_type": "markdown",
   "id": "feac211c",
   "metadata": {},
   "source": [
    "##### Question 1\n",
    "A partir de combien de valeurs singulières (c'est à dire la valeur de `s`) reconnait-on bien Sam le lapin ?"
   ]
  },
  {
   "cell_type": "code",
   "execution_count": null,
   "id": "1e102e5d",
   "metadata": {},
   "outputs": [],
   "source": []
  },
  {
   "cell_type": "markdown",
   "id": "1de9eb1b",
   "metadata": {},
   "source": [
    "##### Question 2\n",
    "Utiliser le [cours](https://moodle.caseine.org/pluginfile.php/181980/mod_resource/content/1/SVD.pdf) pour déterminer le taux de compression théorique, c'est à dire le rapport \n",
    "\n",
    "$$\\frac{\\mbox{mémoire utilisée pour stocker A}}{\\mbox{mémoire utilisée pour stocker B}}$$\n",
    "en fonction de la valeur de `s`"
   ]
  },
  {
   "cell_type": "code",
   "execution_count": null,
   "id": "3b5c2d02",
   "metadata": {},
   "outputs": [],
   "source": []
  }
 ],
 "metadata": {
  "kernelspec": {
   "display_name": "Python 3 (ipykernel)",
   "language": "python",
   "name": "python3"
  },
  "language_info": {
   "codemirror_mode": {
    "name": "ipython",
    "version": 3
   },
   "file_extension": ".py",
   "mimetype": "text/x-python",
   "name": "python",
   "nbconvert_exporter": "python",
   "pygments_lexer": "ipython3",
   "version": "3.9.7"
  }
 },
 "nbformat": 4,
 "nbformat_minor": 5
}
