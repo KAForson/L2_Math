{
 "cells": [
  {
   "cell_type": "markdown",
   "id": "c6ab06ff",
   "metadata": {},
   "source": [
    "# TP1 - Prise en main et premiers pas avec un notebook en python\n",
    "\n",
    "Le langage python est utilisé dans de nombreux domaines, et en particulier en calcul numérique. C'est dans ce contexte que nous allons l'utiliser en MAT405.\n",
    "\n",
    "En quelques mots, un notebook se présente sous la forme d'une page web contenant des cellules.\n",
    "Dans ce notebook, la plupart des cellules sont déjà remplies par des commandes en python (sauf les exercices) qu'il faudra exécuter.\n",
    "\n",
    "De manière générale, vous pouvez éditer/modifier ces cellules et obtenir le résultat (de chaque cellule) soit en appuyant sur le bouton \"exécuter\" sur le bandeau en haut de la page, soit en tapant \"shift + entrée\".\n",
    "Attention : \n",
    "- Le fait que rien ne s'affiche après une exécution ne veut pas dire qu'il ne s'est rien passé... mais juste qu'aucun affichage n'a été demandé.\n",
    "- Une erreur dans une cellule génère un message à lire pour comprendre d'où vient votre erreur.\n",
    "\n",
    "Vous pouvez ajouter des cellules quand vous en avez besoin (onglet \"insert\" dans le bandeau).\n",
    "\n",
    "Le but de ce premier notebook en python est de vous montrer par des exemples comment construire et manipuler des objets qui vous seront utiles tout le semestre.\n",
    "Des exercices d'applications à programmer par vous-même suivent ces exemples.\n",
    "\n",
    "#### Ce notebook est séparé en 3 parties :\n",
    "1) Manipulation des nombres complexes\n",
    "\n",
    "2) Manipulation de vecteurs et matrices pour la résolution de systèmes linéaires\n",
    "\n",
    "3) Tracé de courbes - fonctions continues et nuage de points\n"
   ]
  },
  {
   "cell_type": "markdown",
   "id": "a5359358",
   "metadata": {},
   "source": [
    "# 1 - Prise en main - manipulation de nombres complexes"
   ]
  },
  {
   "cell_type": "code",
   "execution_count": null,
   "id": "cb7547d0",
   "metadata": {},
   "outputs": [],
   "source": [
    "# Les lignes débutant avec \"#\" ne sont pas exécutées, \n",
    "# ce sont des lignes de commentaires qui servent à expliquer le code. \n",
    "# Les commentaires sont utiles pour vous et pour ceux qui liront votre code \n",
    "# (exemple : vos enseignants...). Ils sont INDISPENSABLES."
   ]
  },
  {
   "cell_type": "code",
   "execution_count": 2,
   "id": "a33b96da",
   "metadata": {},
   "outputs": [],
   "source": [
    "# python possède par défaut un type pour les nombres complexes. \n",
    "# Le nombre imaginaire pur i tel que i*i = -1 est noté \"1j\" :\n",
    "z = 1j"
   ]
  },
  {
   "cell_type": "code",
   "execution_count": 3,
   "id": "3944afac",
   "metadata": {},
   "outputs": [
    {
     "name": "stdout",
     "output_type": "stream",
     "text": [
      "1j\n",
      "(-1+0j)\n",
      "(-1+0j)\n"
     ]
    }
   ],
   "source": [
    "# Remarque : les variables créées sont accessibles dans tout le notebook \n",
    "# par exemple, vous pouvez maintenant créer la variable que l'on nommera \"prod\" \n",
    "# contenant le produit de z par z et vérifier que z*z = -1\n",
    "# la commande ci-dessous affiche la valeur de la variable z créé dans la cellule précédente\n",
    "print(z)\n",
    "# et voila le résultat du produit\n",
    "print(z*z)\n",
    "# ou encore en définissant la variable \n",
    "prod = z*z\n",
    "print(prod)\n",
    "# notez que même si le résultat est -1, il est représenté par python comme un nombre complexe\n",
    "# dont la partie imaginaire est nulle"
   ]
  },
  {
   "cell_type": "code",
   "execution_count": 4,
   "id": "5450fe65",
   "metadata": {},
   "outputs": [
    {
     "name": "stdout",
     "output_type": "stream",
     "text": [
      "(0.5-0.5j)\n"
     ]
    }
   ],
   "source": [
    "# vous pouvez effectuer toutes les opérations arithmétiques sur les nombres complexes :\n",
    "print(1/(1+1j))"
   ]
  },
  {
   "cell_type": "code",
   "execution_count": 5,
   "id": "a17e9ae2",
   "metadata": {},
   "outputs": [
    {
     "name": "stdout",
     "output_type": "stream",
     "text": [
      "Re(z) = 1.0\n",
      "Im(z) = 2.0\n",
      "conj(z) = (1-2j)\n"
     ]
    }
   ],
   "source": [
    "# quelques opérations de base :\n",
    "z = 1 + 2j\n",
    "print(\"Re(z) = {}\".format(z.real))\n",
    "print(\"Im(z) = {}\".format(z.imag))\n",
    "print(\"conj(z) = {}\".format(z.conjugate()))"
   ]
  },
  {
   "cell_type": "markdown",
   "id": "72d92b09",
   "metadata": {},
   "source": [
    "### Utilisation de librairies (en général...)\n",
    "Un des intérêts du langage python pour le calcul scientifique est l'utilisation de librairies. Les deux librairies très largement utilisées dans le monde scientifique sont numpy (pour le calcul numérique) et matplotlib (pour la visualisation)"
   ]
  },
  {
   "cell_type": "code",
   "execution_count": 3,
   "id": "8d885d13",
   "metadata": {},
   "outputs": [],
   "source": [
    "# il faut commencer par importer ces librairies \n",
    "# pour utiliser leurs fonctions\n",
    "import numpy as np\n",
    "# les fonctions de numpy sont maintenant accessibles avec le\n",
    "# préfixe \"np.\" grâce au mot-clef \"as\"\n",
    "\n",
    "# on importe de même le module pyplot de matplotlib\n",
    "import matplotlib.pyplot as plt\n",
    "\n",
    "# Remarque 1 : il existe d'autres moyens d'importer des librairies, \n",
    "# nous vous recommandons celle-ci qui est standard\n",
    "\n",
    "# Remarque 2 : il est tout à fait possible d'utiliser d'autres alias que \"np\" et \"plt\"\n",
    "# mais ceux-ci sont standards (vous les retrouverez dans les documentations) et donc\n",
    "# recommandés."
   ]
  },
  {
   "cell_type": "code",
   "execution_count": 7,
   "id": "a8269dbb",
   "metadata": {},
   "outputs": [
    {
     "name": "stdout",
     "output_type": "stream",
     "text": [
      "module de z = 1.4142135623730951\n",
      "racine de 2 = 1.4142135623730951\n",
      "argument de z = 0.7853981633974483\n",
      "pi/4 = 0.7853981633974483\n"
     ]
    }
   ],
   "source": [
    "###### quelques fonctions numpy pour les nombres complexes ######\n",
    "z = 1 + 1j\n",
    "# module\n",
    "print(\"module de z = {}\".format(np.abs(z)))\n",
    "print(\"racine de 2 = {}\".format(np.sqrt(2)))\n",
    "# argument en radians\n",
    "print(\"argument de z = {}\".format(np.angle(z)))\n",
    "print(\"pi/4 = {}\".format(np.pi/4))"
   ]
  },
  {
   "cell_type": "code",
   "execution_count": 8,
   "id": "c8a3d2aa",
   "metadata": {},
   "outputs": [
    {
     "name": "stdout",
     "output_type": "stream",
     "text": [
      "(1.0000000000000002+1j)\n",
      "(1.0000000000000002+1j)\n"
     ]
    }
   ],
   "source": [
    "# vous pouvez tester la représentation polaire\n",
    "r = np.abs(z)\n",
    "theta = np.angle(z)\n",
    "print(r*np.exp(1j*theta))\n",
    "print(r*(np.cos(theta) + 1j*np.sin(theta)))"
   ]
  },
  {
   "cell_type": "markdown",
   "id": "6851fd0f",
   "metadata": {},
   "source": [
    "# 2 - Manipulation de vecteurs et matrices pour la résolution de systèmes linéaires"
   ]
  },
  {
   "cell_type": "markdown",
   "id": "4b2e5f79",
   "metadata": {},
   "source": [
    "## 2.1 - Calcul vectoriel avec la librairie numpy\n",
    "\n",
    "La librairie numpy permet de réaliser des opérations arithmétiques sur les tableaux.\n",
    "Lorsque ce sont des tableaux à une dimension, on parle de calcul vectoriel."
   ]
  },
  {
   "cell_type": "markdown",
   "id": "2c466bc3",
   "metadata": {},
   "source": [
    "### Création de vecteurs"
   ]
  },
  {
   "cell_type": "code",
   "execution_count": 11,
   "id": "cadb1d75",
   "metadata": {},
   "outputs": [
    {
     "name": "stdout",
     "output_type": "stream",
     "text": [
      "u = [1 2 3]\n",
      "1er élément = 1\n",
      "2ème élément = 2\n",
      "3ème élément = 3\n",
      "1\n",
      "2\n",
      "3\n"
     ]
    }
   ],
   "source": [
    "# création du vecteur ligne [1, 2, 3]\n",
    "u = np.array([1,2,3])\n",
    "print(\"u = {}\".format(u))\n",
    "# REMARQUE IMPORTANTE: Ce type de tableau unidimensionnel ne fait pas la différence entre \n",
    "# un vecteur ligne et un vecteur colonne (à l'inverse des matrices - voir plus bas)\n",
    "\n",
    "# les tableaux sont indexés à partir de zéro : \n",
    "print(\"1er élément = {}\".format(u[0]))\n",
    "print(\"2ème élément = {}\".format(u[1]))\n",
    "print(\"3ème élément = {}\".format(u[2]))\n",
    "\n",
    "# boucle sur les indices\n",
    "for i in range(3):\n",
    "    print(u[i])"
   ]
  },
  {
   "cell_type": "code",
   "execution_count": 12,
   "id": "bc9abe8f",
   "metadata": {},
   "outputs": [
    {
     "name": "stdout",
     "output_type": "stream",
     "text": [
      "[0. 0. 0.]\n",
      "[1. 1. 1.]\n",
      "[2. 2. 2.]\n",
      "[1 2 3 4]\n",
      "[0.  0.1 0.2 0.3 0.4 0.5 0.6 0.7 0.8 0.9 1. ]\n",
      "[ 0. -1.  0.]\n"
     ]
    }
   ],
   "source": [
    "# il existe de nombreux outils pour créer des vecteurs particuliers, par exemple\n",
    "\n",
    "# vecteur de zéros\n",
    "print(np.zeros(3))\n",
    "\n",
    "# vecteur de uns\n",
    "print(np.ones(3))\n",
    "\n",
    "# vecteur de deux\n",
    "print(2*np.ones(3))\n",
    "\n",
    "# valeurs entières successives de 1 à 4\n",
    "print(np.arange(1, 5))\n",
    "\n",
    "# intervalle [0, 1] découpé en 11 points\n",
    "print(np.linspace(0, 1, 11))\n",
    "\n",
    "# modification de la valeur d'un (ici le second) élément\n",
    "w = np.zeros(3)\n",
    "w[1] = -1\n",
    "print(w)"
   ]
  },
  {
   "cell_type": "markdown",
   "id": "3c48d2b7",
   "metadata": {},
   "source": [
    "### Opérations sur les vecteurs"
   ]
  },
  {
   "cell_type": "code",
   "execution_count": 13,
   "id": "3a3c2ac3",
   "metadata": {},
   "outputs": [
    {
     "name": "stdout",
     "output_type": "stream",
     "text": [
      "u = [1 2 3] et v = [4 5 6]\n",
      "2*u = [2 4 6]\n",
      "u + 1 = [2 3 4]\n",
      "u + v = [5 7 9]\n",
      "1.5*u - v = [-2.5 -2.  -1.5]\n",
      "32\n"
     ]
    }
   ],
   "source": [
    "# création du vecteur ligne [1, 2, 3]\n",
    "u = np.array([1,2,3])\n",
    "# création du vecteur [4, 5, 6]\n",
    "v = np.array([4, 5, 6])\n",
    "print(\"u = {} et v = {}\".format(u,v))\n",
    "\n",
    "# multiplication par un scalaire (un nombre réel)\n",
    "print(\"2*u = {}\".format(2*u))\n",
    "# addition avec un scalaire\n",
    "print(\"u + 1 = {}\".format(u + 1))\n",
    "\n",
    "# addition de deux vecteurs\n",
    "print(\"u + v = {}\".format(u + v))\n",
    "\n",
    "# combinaison linéaire de deux vecteurs\n",
    "print(\"1.5*u - v = {}\".format(1.5*u - v))\n",
    "\n",
    "# produit scalaire de deux vecteurs\n",
    "print(np.dot(u, v))"
   ]
  },
  {
   "cell_type": "markdown",
   "id": "18b79879",
   "metadata": {},
   "source": [
    "## 2.2 - Calcul matriciel avec la librairie numpy\n",
    "\n",
    "Il est possible de créer des tableaux de dimension supérieure (avec plus d'une entrée). Les tableaux de dimension 2 (tableaux rectangulaires) peuvent être interprétés comme des matrices."
   ]
  },
  {
   "cell_type": "markdown",
   "id": "215fabad",
   "metadata": {},
   "source": [
    "### Création de matrices"
   ]
  },
  {
   "cell_type": "code",
   "execution_count": 14,
   "id": "bb6a6eb6",
   "metadata": {},
   "outputs": [
    {
     "name": "stdout",
     "output_type": "stream",
     "text": [
      "A = [[1 2 3]\n",
      " [4 5 6]]\n",
      "A = \n",
      " [[1 2 3]\n",
      " [4 5 6]]\n",
      "Nb d'éléments = 6\n",
      "Taille = (2, 3)\n",
      "Elément ligne 1, colonne 2 = 2\n",
      "Ligne 2 = [4 5 6]\n",
      "Colonne 3 = [3 6]\n",
      "1\n",
      "2\n",
      "3\n",
      "4\n",
      "5\n",
      "6\n"
     ]
    }
   ],
   "source": [
    "# un tableau 2D peut être créé à partir d'une liste de listes\n",
    "A = np.array([[1, 2, 3], [4, 5, 6]])\n",
    "# affichage de la matrice A (lecture difficile à cause du décalage...)\n",
    "print(\"A = {}\".format(A))\n",
    "# autre option d'affichage pour éviter le décalage en passant à la ligne\n",
    "print(\"A = \\n {}\".format(A))\n",
    "# du nombre d'éléments\n",
    "print(\"Nb d'éléments = {}\".format(np.size(A)))\n",
    "# de la taille \n",
    "print(\"Taille = {}\".format(np.shape(A)))\n",
    "# accès à l'élément 1ère ligne 2ème colonne\n",
    "print(\"Elément ligne 1, colonne 2 = {}\".format(A[0, 1]))\n",
    "# accès à la ligne 2\n",
    "print(\"Ligne 2 = {}\".format(A[1, :]))\n",
    "# accès à la colonne 3\n",
    "print(\"Colonne 3 = {}\".format(A[:, 2]))\n",
    "\n",
    "# boucle sur les indices: ici, i est l'indice de ligne, j l'indice de colonne\n",
    "# ce qui permet d'afficher tous les éléments\n",
    "for i in range(2):\n",
    "    for j in range(3):\n",
    "        print(A[i, j])"
   ]
  },
  {
   "cell_type": "code",
   "execution_count": 15,
   "id": "8a6e99d9",
   "metadata": {},
   "outputs": [
    {
     "name": "stdout",
     "output_type": "stream",
     "text": [
      "[[0. 0. 0.]\n",
      " [0. 0. 0.]]\n",
      "[[1. 1.]\n",
      " [1. 1.]\n",
      " [1. 1.]]\n",
      "[[1 0 0]\n",
      " [0 2 0]\n",
      " [0 0 3]]\n"
     ]
    }
   ],
   "source": [
    "# il existe de nombreux outils pour créer des matrices, par exemple\n",
    "\n",
    "# matrice nulle de taille (2, 3)\n",
    "print(np.zeros((2,3)))\n",
    "\n",
    "# matrice de uns de taille (3, 2)\n",
    "print(np.ones((3,2)))\n",
    "\n",
    "# matrice dont la diagonale est un vecteur (ici u)\n",
    "print(np.diag(u))"
   ]
  },
  {
   "cell_type": "markdown",
   "id": "fc0c483e",
   "metadata": {},
   "source": [
    "### Opérations sur les matrices"
   ]
  },
  {
   "cell_type": "code",
   "execution_count": 16,
   "id": "cb30747e",
   "metadata": {},
   "outputs": [
    {
     "name": "stdout",
     "output_type": "stream",
     "text": [
      "A = \n",
      "[[1 2 3]\n",
      " [4 5 6]]\n",
      "2*A = \n",
      "[[ 2  4  6]\n",
      " [ 8 10 12]]\n",
      "A + 1 = \n",
      "[[2 3 4]\n",
      " [5 6 7]]\n",
      "A + B = \n",
      "[[2 3 4]\n",
      " [5 6 7]]\n",
      "transposée de A = \n",
      "[[1 4]\n",
      " [2 5]\n",
      " [3 6]]\n"
     ]
    }
   ],
   "source": [
    "A = np.array([[1, 2, 3], [4, 5, 6]])\n",
    "print(\"A = \\n{}\".format(A))\n",
    "\n",
    "# multiplication par un scalaire\n",
    "print(\"2*A = \\n{}\".format(2*A))\n",
    "# addition avec un scalaire... à chaque élément\n",
    "print(\"A + 1 = \\n{}\".format(A+1))\n",
    "      \n",
    "# création d'une 2ème matrice de la même taille que A, remplie de 1\n",
    "B = np.ones_like(A)\n",
    "\n",
    "# addition de A et B\n",
    "print(\"A + B = \\n{}\".format(A+B))\n",
    "\n",
    "# transposée\n",
    "print(\"transposée de A = \\n{}\".format(A.T))"
   ]
  },
  {
   "cell_type": "code",
   "execution_count": 17,
   "id": "33b115d1",
   "metadata": {},
   "outputs": [
    {
     "ename": "ValueError",
     "evalue": "shapes (2,3) and (2,3) not aligned: 3 (dim 1) != 2 (dim 0)",
     "output_type": "error",
     "traceback": [
      "\u001b[0;31m---------------------------------------------------------------------------\u001b[0m",
      "\u001b[0;31mValueError\u001b[0m                                Traceback (most recent call last)",
      "\u001b[0;32m/tmp/ipykernel_53/1392825598.py\u001b[0m in \u001b[0;36m<module>\u001b[0;34m\u001b[0m\n\u001b[1;32m      1\u001b[0m \u001b[0;31m# produit de 2 matrices (qui produit volontairement une erreur - voir entrée suivante)\u001b[0m\u001b[0;34m\u001b[0m\u001b[0;34m\u001b[0m\u001b[0m\n\u001b[0;32m----> 2\u001b[0;31m \u001b[0mprint\u001b[0m\u001b[0;34m(\u001b[0m\u001b[0;34m\"A*B = {}\"\u001b[0m\u001b[0;34m.\u001b[0m\u001b[0mformat\u001b[0m\u001b[0;34m(\u001b[0m\u001b[0mnp\u001b[0m\u001b[0;34m.\u001b[0m\u001b[0mdot\u001b[0m\u001b[0;34m(\u001b[0m\u001b[0mA\u001b[0m\u001b[0;34m,\u001b[0m \u001b[0mB\u001b[0m\u001b[0;34m)\u001b[0m\u001b[0;34m)\u001b[0m\u001b[0;34m)\u001b[0m\u001b[0;34m\u001b[0m\u001b[0;34m\u001b[0m\u001b[0m\n\u001b[0m",
      "\u001b[0;32m<__array_function__ internals>\u001b[0m in \u001b[0;36mdot\u001b[0;34m(*args, **kwargs)\u001b[0m\n",
      "\u001b[0;31mValueError\u001b[0m: shapes (2,3) and (2,3) not aligned: 3 (dim 1) != 2 (dim 0)"
     ]
    }
   ],
   "source": [
    "# produit de 2 matrices (qui produit volontairement une erreur - voir entrée suivante)\n",
    "print(\"A*B = {}\".format(np.dot(A, B)))"
   ]
  },
  {
   "cell_type": "code",
   "execution_count": 18,
   "id": "6526f5bf",
   "metadata": {},
   "outputs": [
    {
     "name": "stdout",
     "output_type": "stream",
     "text": [
      "A*B.T = \n",
      "[[ 6  6]\n",
      " [15 15]]\n",
      "A*B.T = \n",
      "[[ 6  6]\n",
      " [15 15]]\n"
     ]
    }
   ],
   "source": [
    "# Regardez bien le message d'erreur : les dimensions ne sont pas compatibles ; \n",
    "# en effet il faut que le nombre de colonnes de la 1ère matrice soit égal au nombre de lignes de la \n",
    "# deuxième, donc avec la transposée de B, ça fonctionne\n",
    "print(\"A*B.T = \\n{}\".format(np.dot(A, B.T)))\n",
    "\n",
    "# notez que l'opérateur \"*\" ne correspond pas au produit matriciel\n",
    "# il faut utiliser la commande \"np.dot\" ou encore la commande \"@\n",
    "print(\"A*B.T = \\n{}\".format(A@B.T))"
   ]
  },
  {
   "cell_type": "code",
   "execution_count": 19,
   "id": "ab54aa02",
   "metadata": {},
   "outputs": [
    {
     "name": "stdout",
     "output_type": "stream",
     "text": [
      "A*u = [14 32]\n",
      "A*u = [14 32]\n"
     ]
    }
   ],
   "source": [
    "# produit matrice vecteur\n",
    "print(\"A*u = {}\".format(np.dot(A, u)))\n",
    "# ou\n",
    "print(\"A*u = {}\".format(A@u))\n",
    "# attention ici aussi aux dimensions de la matrice A et du vecteur u pour faire ce produit"
   ]
  },
  {
   "cell_type": "code",
   "execution_count": 24,
   "id": "d60ba503",
   "metadata": {},
   "outputs": [
    {
     "name": "stdout",
     "output_type": "stream",
     "text": [
      "C*inv_C = \n",
      "[[1. 0. 0.]\n",
      " [0. 1. 0.]\n",
      " [0. 0. 1.]]\n",
      "inv_C*C = \n",
      "[[1. 0. 0.]\n",
      " [0. 1. 0.]\n",
      " [0. 0. 1.]]\n"
     ]
    }
   ],
   "source": [
    "#### matrice inverse d'une matrice carrée ####\n",
    "\n",
    "# on crée une matrice carrée\n",
    "C = np.array([[1, 0, -1], \n",
    "              [0, -1, 1],\n",
    "              [0, -1, 2]])\n",
    "\n",
    "# et son inverse\n",
    "inv_C = np.linalg.inv(C)\n",
    "\n",
    "# vérification de la propriété d'une matrice inverse:\n",
    "print(\"C*inv_C = \\n{}\".format(C@inv_C))\n",
    "print(\"inv_C*C = \\n{}\".format(np.dot(inv_C, C)))"
   ]
  },
  {
   "cell_type": "code",
   "execution_count": 25,
   "id": "1d5f8a2c",
   "metadata": {},
   "outputs": [
    {
     "name": "stdout",
     "output_type": "stream",
     "text": [
      "I = \n",
      "[[1. 0. 0.]\n",
      " [0. 1. 0.]\n",
      " [0. 0. 1.]]\n",
      "C*I = \n",
      "[[ 1.  0. -1.]\n",
      " [ 0. -1.  1.]\n",
      " [ 0. -1.  2.]]\n",
      "I*C = \n",
      "[[ 1.  0. -1.]\n",
      " [ 0. -1.  1.]\n",
      " [ 0. -1.  2.]]\n",
      "u = [1 2 3]\n",
      "I*u = \n",
      "[1. 2. 3.]\n"
     ]
    }
   ],
   "source": [
    "# on trouve bien la matrice identité, qui contient des uns sur la diagonale\n",
    "# l'identité multpliée avec une matrice ou un vecteur renvoie la même matrice ou le même vecteur :\n",
    "\n",
    "# on crée l'identité de taille 3\n",
    "\n",
    "# .eye is used to used to return a two-dimensional array with ones (1) on the diagonal and zeros (0) elsewhere\n",
    "I = np.eye(3)\n",
    "print(\"I = \\n{}\".format(I))\n",
    "\n",
    "print(\"C*I = \\n{}\".format(np.dot(C, I)))\n",
    "print(\"I*C = \\n{}\".format(I@C))\n",
    "\n",
    "print(\"u = {}\".format(u))\n",
    "print(\"I*u = \\n{}\".format(np.dot(I, u)))"
   ]
  },
  {
   "cell_type": "markdown",
   "id": "9e18d772",
   "metadata": {},
   "source": [
    "## 2.3 - Résolution de systèmes linéaires\n",
    "\n",
    "Considérons le système linéaire \n",
    "$$\n",
    "\\left\\lbrace\n",
    "\\begin{eqnarray}\n",
    "4x &+& 2y &= -1\\\\ \n",
    "3x &-& y &= 2\n",
    "\\end{eqnarray}\n",
    "\\right.\n",
    "$$\n",
    "Il s'écrit sous forme matricielle\n",
    "$$\n",
    "\\left(\n",
    "\\begin{array}{cc}\n",
    "4&2\\\\\n",
    "3&-1\n",
    "\\end{array}\n",
    "\\right)\n",
    "\\left(\n",
    "\\begin{array}{c}\n",
    "x\\\\\n",
    "y\n",
    "\\end{array}\n",
    "\\right)\n",
    "= \n",
    "\\left(\n",
    "\\begin{array}{c}\n",
    "-1\\\\\n",
    "2\n",
    "\\end{array}\n",
    "\\right).\n",
    "$$\n",
    "La matrice $A = \\left(\n",
    "\\begin{array}{cc}\n",
    "4&2\\\\\n",
    "3&-1\n",
    "\\end{array}\n",
    "\\right)$ est la matrice du système, et le vecteur \n",
    "$b = \\left(\n",
    "\\begin{array}{c}\n",
    "-1\\\\\n",
    "2\n",
    "\\end{array}\n",
    "\\right)$\n",
    "est le second membre du système. Il existe une fonction numpy pour résoudre le système défini par la \n",
    "donnée de $A$ et $b$ (c'est à dire trouver le vecteur inconnu - vecteur colonne - dont les composantes sont $x$ et $y$):\n"
   ]
  },
  {
   "cell_type": "code",
   "execution_count": 38,
   "id": "24a7d24f",
   "metadata": {},
   "outputs": [
    {
     "name": "stdout",
     "output_type": "stream",
     "text": [
      "A = \n",
      "[[ 4  2]\n",
      " [ 3 -1]]\n",
      "b = \n",
      "[-1  2]\n",
      "x = la solution = [ 0.3 -1.1]\n",
      "A*x = [-1.  2.]\n"
     ]
    }
   ],
   "source": [
    "# définition de A\n",
    "A = np.array([[4, 2], [3, -1]])\n",
    "print(\"A = \\n{}\".format(A))\n",
    "\n",
    "# définition de b\n",
    "b = np.array([-1, 2])\n",
    "print(\"b = \\n{}\".format(b))\n",
    "\n",
    "# résolution du système Ax = b : détermination du vecteur x\n",
    "#Solve a linear matrix equation, or system of linear scalar equations. Computes the “exact” solution, x, of the well-determined \n",
    "#i.e., full rank, linear matrix equation ax = b.\n",
    "x = np.linalg.solve(A, b)\n",
    "print(\"x = la solution = {}\".format(x))\n",
    "\n",
    "# vérification : on a bien Ax = b\n",
    "print(\"A*x = {}\".format(np.dot(A, x)))"
   ]
  },
  {
   "cell_type": "markdown",
   "id": "d74d687b",
   "metadata": {},
   "source": [
    "L'inverse de $A$ (quand la matrice est inversible, c'est à dire quand son déterminant est non-nul) permet également de résoudre le système en le multipliant à gauche par $A^{-1}$ :\n",
    "$$\n",
    "Ax = b \\Leftrightarrow\n",
    "A^{-1}Ax = A^{-1}b \\Leftrightarrow\n",
    "x = A^{-1}b, \n",
    "$$\n",
    "car $A^{-1}Ax = x$. Notez bien qu'il faut ici multiplier par $A^{-1}$ à gauche pour éliminer $A$, d'où\n",
    "le $A^{-1}b$."
   ]
  },
  {
   "cell_type": "code",
   "execution_count": 43,
   "id": "5fc07645",
   "metadata": {},
   "outputs": [
    {
     "name": "stdout",
     "output_type": "stream",
     "text": [
      "le déterminant de A est det(A) = -10.000000000000002\n",
      "A^-1 = \n",
      "[[ 0.1  0.2]\n",
      " [ 0.3 -0.4]]\n",
      "A^-1*b = x = [ 0.3 -1.1]\n"
     ]
    }
   ],
   "source": [
    "# vérification que la matrice est inversible\n",
    "print(\"le déterminant de A est det(A) = {}\".format(np.linalg.det(A)))\n",
    "\n",
    "#find the inverse of the matrice A\n",
    "\n",
    "inv_A = np.linalg.inv(A)\n",
    "print(\"A^-1 = \\n{}\".format(np.linalg.inv(A)))\n",
    "\n",
    "# vérification que le produit de la matrice inverse de A par le second membre b donne bien la solution\n",
    "print(\"A^-1*b = x = {}\".format(np.dot(np.linalg.inv(A), b)))"
   ]
  },
  {
   "cell_type": "markdown",
   "id": "a1881e0e",
   "metadata": {},
   "source": [
    "## 2.4 -------- EXERCICE - à vous de faire"
   ]
  },
  {
   "cell_type": "markdown",
   "id": "a0ddc3f7",
   "metadata": {},
   "source": [
    "#### Question 1 : \n",
    "Utiliser les commandes vues dans les sectiones précédents pour construire les matrices suivantes :  \n",
    "\n",
    "$$\n",
    "A = \\left(\n",
    "\\begin{array}{ccccc}\n",
    "1&0&0&0&0\\\\\n",
    "0&2&0&0&0\\\\\n",
    "0&0&3&4&0\\\\\n",
    "0&0&0&4&0\\\\\n",
    "0&0&0&0&5\n",
    "\\end{array}\n",
    "\\right)\n",
    "$$\n",
    "\n",
    "$$\n",
    "B = \\left(\n",
    "\\begin{array}{ccccc}\n",
    "1&1&1&1&1\\\\\n",
    "0&0&0&0&0\\\\\n",
    "0&0&0&0&0\\\\\n",
    "0&0&0&0&0\\\\\n",
    "0&0&0&0&0\n",
    "\\end{array}\n",
    "\\right)\n",
    "$$\n",
    "\n",
    "$$\n",
    "C = \\left(\n",
    "\\begin{array}{ccccc}\n",
    "2&1&-1&-1&-1\\\\\n",
    "2&2&-1&-1&-1\\\\\n",
    "2&3&-1&-1&-1\n",
    "\\end{array}\n",
    "\\right)\n",
    "$$\n",
    "\n",
    "$$\n",
    "D = \\left(\n",
    "\\begin{array}{ccccc}\n",
    "1&1&1&1&1\\\\\n",
    "1&0&1&1&1\\\\\n",
    "1&1&1&1&1\n",
    "\\end{array}\n",
    "\\right)\n",
    "$$"
   ]
  },
  {
   "cell_type": "code",
   "execution_count": 45,
   "id": "b59b2f0a",
   "metadata": {
    "scrolled": true
   },
   "outputs": [
    {
     "name": "stdout",
     "output_type": "stream",
     "text": [
      "A = \n",
      "[[1 0 0 0 0]\n",
      " [0 2 0 0 0]\n",
      " [0 0 3 4 0]\n",
      " [0 0 0 4 0]\n",
      " [0 0 0 0 5]]\n"
     ]
    }
   ],
   "source": [
    "#Méthode 1 : Simple\n",
    "A = np.array([[1,0,0,0,0], [0,2,0,0,0], [0,0,3,4,0], [0,0,0,4,0], [0,0,0,0,5]])\n",
    "print (\"A = \\n{}\".format(A))"
   ]
  },
  {
   "cell_type": "code",
   "execution_count": 52,
   "id": "8ccc1297",
   "metadata": {},
   "outputs": [
    {
     "name": "stdout",
     "output_type": "stream",
     "text": [
      "[[1 0 0 0 0]\n",
      " [0 2 0 0 0]\n",
      " [0 0 3 4 0]\n",
      " [0 0 0 4 0]\n",
      " [0 0 0 0 5]]\n"
     ]
    }
   ],
   "source": [
    "#Méthode 2: Better\n",
    "\n",
    "u=np.array([1,2,3,4,5])\n",
    "A = np.diag(u)\n",
    "A[2,3]=4\n",
    "print(A)"
   ]
  },
  {
   "cell_type": "code",
   "execution_count": 46,
   "id": "88a367a7",
   "metadata": {
    "scrolled": true,
    "slideshow": {
     "slide_type": ""
    }
   },
   "outputs": [
    {
     "name": "stdout",
     "output_type": "stream",
     "text": [
      "B = \n",
      "[[1 1 1 1 1]\n",
      " [0 0 0 0 0]\n",
      " [0 0 0 0 0]\n",
      " [0 0 0 0 0]\n",
      " [0 0 0 0 0]]\n"
     ]
    }
   ],
   "source": [
    "#Méthode 1\n",
    "\n",
    "B = np.array([[1,1,1,1,1], [0,0,0,0,0], [0,0,0,0,0], [0,0,0,0,0], [0,0,0,0,0]])\n",
    "print (\"B = \\n{}\".format(B))"
   ]
  },
  {
   "cell_type": "code",
   "execution_count": 62,
   "id": "4eb52738",
   "metadata": {},
   "outputs": [
    {
     "name": "stdout",
     "output_type": "stream",
     "text": [
      "[[1. 1. 1. 1. 1.]\n",
      " [0. 0. 0. 0. 0.]\n",
      " [0. 0. 0. 0. 0.]\n",
      " [0. 0. 0. 0. 0.]\n",
      " [0. 0. 0. 0. 0.]]\n"
     ]
    }
   ],
   "source": [
    "#Méthode 2\n",
    "\n",
    "B = np.zeros((5,5))\n",
    "# : means selection de toute la ligne\n",
    "B[0,:] = 1\n",
    "\n",
    "print(B)"
   ]
  },
  {
   "cell_type": "code",
   "execution_count": 72,
   "id": "f8fb7c5c",
   "metadata": {
    "slideshow": {
     "slide_type": "subslide"
    }
   },
   "outputs": [
    {
     "name": "stdout",
     "output_type": "stream",
     "text": [
      "[[1 1 1 1 1]\n",
      " [0 0 0 0 0]\n",
      " [0 0 0 0 0]\n",
      " [0 0 0 0 0]\n",
      " [0 0 0 0 0]]\n"
     ]
    }
   ],
   "source": [
    "#Méthode 3\n",
    "\n",
    "A = np.array([[1, 0, 0, 0,0]])\n",
    "C = np.transpose(A)\n",
    "B = np.tile(C, 5)\n",
    "\n",
    "print (B)"
   ]
  },
  {
   "cell_type": "code",
   "execution_count": 47,
   "id": "01db5150",
   "metadata": {},
   "outputs": [
    {
     "name": "stdout",
     "output_type": "stream",
     "text": [
      "C = \n",
      "[[ 2  1 -1 -1 -1]\n",
      " [ 2  2 -1 -1 -1]\n",
      " [ 2  3 -1 -1 -1]]\n"
     ]
    }
   ],
   "source": [
    "#Méthode 1\n",
    "\n",
    "C = np.array ([[2,1,-1,-1,-1], [2,2,-1,-1,-1], [2,3,-1,-1,-1]])\n",
    "print(\"C = \\n{}\".format(C))"
   ]
  },
  {
   "cell_type": "code",
   "execution_count": 88,
   "id": "d7dec1d3",
   "metadata": {},
   "outputs": [
    {
     "name": "stdout",
     "output_type": "stream",
     "text": [
      "C = \n",
      "[[ 2.  1. -1. -1. -1.]\n",
      " [ 2.  2. -1. -1. -1.]\n",
      " [ 2.  3. -1. -1. -1.]]\n"
     ]
    }
   ],
   "source": [
    "#Méthode 2\n",
    "\n",
    "C = np.zeros((3,5))\n",
    "\n",
    "C[:,0] = 3\n",
    "C[0,1] = 2\n",
    "C[1,1] = 3\n",
    "C[2,1] = 4\n",
    "\n",
    "#Difference entre affichage et création de variable\n",
    "\n",
    "print(\"C = \\n{}\".format(C-1))"
   ]
  },
  {
   "cell_type": "code",
   "execution_count": 90,
   "id": "b020da6a",
   "metadata": {},
   "outputs": [
    {
     "name": "stdout",
     "output_type": "stream",
     "text": [
      "D = \n",
      "[[1. 1. 1. 1. 1.]\n",
      " [1. 0. 1. 1. 1.]\n",
      " [1. 1. 1. 1. 1.]]\n"
     ]
    }
   ],
   "source": [
    "#Méthode 1\n",
    "\n",
    "D = np.ones((3,5))\n",
    "D[1,1]=0\n",
    "\n",
    "print (\"D = \\n{}\". format(D))"
   ]
  },
  {
   "cell_type": "markdown",
   "id": "1b443833",
   "metadata": {},
   "source": [
    "#### Question 2 : \n",
    "Calculer les déterminants $\\det{(B)}$ et $\\det{(^t\\hspace{-0.25ex}DC)}$. A quelle propriété des matrices considérées correspondent ces valeurs? Expliquer sans calcul pourquoi on obtient ces valeurs."
   ]
  },
  {
   "cell_type": "code",
   "execution_count": 91,
   "id": "51e4d270",
   "metadata": {},
   "outputs": [
    {
     "name": "stdout",
     "output_type": "stream",
     "text": [
      "[[1. 1. 1. 1. 1.]\n",
      " [0. 0. 0. 0. 0.]\n",
      " [0. 0. 0. 0. 0.]\n",
      " [0. 0. 0. 0. 0.]\n",
      " [0. 0. 0. 0. 0.]]\n",
      "Le déterminant de B est det(B) = 0.0\n"
     ]
    }
   ],
   "source": [
    "#Calcul du déterminant B - (matrice carré = possible de calculer)\n",
    "\n",
    "B = np.zeros((5,5))\n",
    "B[0,:] = 1\n",
    "\n",
    "print(B)\n",
    "\n",
    "print(\"Le déterminant de B est det(B) = {}\".format(np.linalg.det(B)))\n",
    "\n",
    "#dét(B) = 0; donc pas de solution unique /infinité de solutions\n",
    "#Les deux première colones sont identiques\n",
    "#la familles des 5 vecteurs colones sont liées donc le déterminant vaut 0"
   ]
  },
  {
   "cell_type": "code",
   "execution_count": 106,
   "id": "c687cbfc",
   "metadata": {},
   "outputs": [
    {
     "name": "stdout",
     "output_type": "stream",
     "text": [
      "D = \n",
      "[[1. 1. 1. 1. 1.]\n",
      " [1. 0. 1. 1. 1.]\n",
      " [1. 1. 1. 1. 1.]]\n",
      "D.T = \n",
      "[[1. 1. 1.]\n",
      " [1. 0. 1.]\n",
      " [1. 1. 1.]\n",
      " [1. 1. 1.]\n",
      " [1. 1. 1.]]\n",
      "C = \n",
      "[[ 2.  1. -1. -1. -1.]\n",
      " [ 2.  2. -1. -1. -1.]\n",
      " [ 2.  3. -1. -1. -1.]]\n",
      "D.T * C = \n",
      "[[ 6.  6. -3. -3. -3.]\n",
      " [ 4.  4. -2. -2. -2.]\n",
      " [ 6.  6. -3. -3. -3.]\n",
      " [ 6.  6. -3. -3. -3.]\n",
      " [ 6.  6. -3. -3. -3.]]\n",
      "Le déterminant de D.T*C est det(D.T * C) = 0.0\n"
     ]
    }
   ],
   "source": [
    "#Matrice D\n",
    "\n",
    "D = np.ones((3,5))\n",
    "D[1,1]=0\n",
    "print (\"D = \\n{}\". format(D))\n",
    "\n",
    "#Transposé de D:\n",
    "\n",
    "print (\"D.T = \\n{}\". format(D.T))\n",
    "\n",
    "#Matrice de C\n",
    "\n",
    "C = np.zeros((3,5))\n",
    "\n",
    "C[:,0] = 3\n",
    "C[0,1] = 2\n",
    "C[1,1] = 3\n",
    "C[2,1] = 4\n",
    "\n",
    "C = C-1\n",
    "\n",
    "print(\"C = \\n{}\".format(C))\n",
    "\n",
    "#Mutliplication de ma matrice transposé de D * C\n",
    "\n",
    "print(\"D.T * C = \\n{}\".format(D.T@C))\n",
    "\n",
    "#det(D.T*C) - possible car matrice carré\n",
    "\n",
    "print(\"Le déterminant de D.T*C est det(D.T * C) = {}\".format(np.linalg.det(D.T@C)))\n",
    "\n",
    "#Les 2 première colones sont les mêmes ce qui veut dire que la familles de vecterus colones sont liées\n",
    "#Donc le déterminant vaut 0"
   ]
  },
  {
   "cell_type": "code",
   "execution_count": 107,
   "id": "0852c00b",
   "metadata": {},
   "outputs": [
    {
     "name": "stdout",
     "output_type": "stream",
     "text": [
      "D.T = \n",
      "[[1. 1. 1.]\n",
      " [1. 0. 1.]\n",
      " [1. 1. 1.]\n",
      " [1. 1. 1.]\n",
      " [1. 1. 1.]]\n",
      "C = \n",
      "[[ 2.  1. -1. -1. -1.]\n",
      " [ 2.  2. -1. -1. -1.]\n",
      " [ 2.  3. -1. -1. -1.]]\n",
      "Le déterminant de D.T*C est det(D.T * C) = 0.0\n"
     ]
    },
    {
     "ename": "LinAlgError",
     "evalue": "Singular matrix",
     "output_type": "error",
     "traceback": [
      "\u001b[0;31m---------------------------------------------------------------------------\u001b[0m",
      "\u001b[0;31mLinAlgError\u001b[0m                               Traceback (most recent call last)",
      "\u001b[0;32m/tmp/ipykernel_53/2163172646.py\u001b[0m in \u001b[0;36m<module>\u001b[0;34m\u001b[0m\n\u001b[1;32m     27\u001b[0m \u001b[0;34m\u001b[0m\u001b[0m\n\u001b[1;32m     28\u001b[0m \u001b[0;34m\u001b[0m\u001b[0m\n\u001b[0;32m---> 29\u001b[0;31m \u001b[0mprint\u001b[0m\u001b[0;34m(\u001b[0m\u001b[0;34m\"Inverse de det(D.T * C) = {}\"\u001b[0m\u001b[0;34m.\u001b[0m\u001b[0mformat\u001b[0m\u001b[0;34m(\u001b[0m\u001b[0mnp\u001b[0m\u001b[0;34m.\u001b[0m\u001b[0mlinalg\u001b[0m\u001b[0;34m.\u001b[0m\u001b[0minv\u001b[0m\u001b[0;34m(\u001b[0m\u001b[0mD\u001b[0m\u001b[0;34m.\u001b[0m\u001b[0mT\u001b[0m\u001b[0;34m@\u001b[0m\u001b[0mC\u001b[0m\u001b[0;34m)\u001b[0m\u001b[0;34m)\u001b[0m\u001b[0;34m)\u001b[0m\u001b[0;34m\u001b[0m\u001b[0;34m\u001b[0m\u001b[0m\n\u001b[0m\u001b[1;32m     30\u001b[0m \u001b[0;31m#Matrice singulière = pas inversible\u001b[0m\u001b[0;34m\u001b[0m\u001b[0;34m\u001b[0m\u001b[0m\n",
      "\u001b[0;32m<__array_function__ internals>\u001b[0m in \u001b[0;36minv\u001b[0;34m(*args, **kwargs)\u001b[0m\n",
      "\u001b[0;32m/opt/conda/lib/python3.9/site-packages/numpy/linalg/linalg.py\u001b[0m in \u001b[0;36minv\u001b[0;34m(a)\u001b[0m\n\u001b[1;32m    543\u001b[0m     \u001b[0msignature\u001b[0m \u001b[0;34m=\u001b[0m \u001b[0;34m'D->D'\u001b[0m \u001b[0;32mif\u001b[0m \u001b[0misComplexType\u001b[0m\u001b[0;34m(\u001b[0m\u001b[0mt\u001b[0m\u001b[0;34m)\u001b[0m \u001b[0;32melse\u001b[0m \u001b[0;34m'd->d'\u001b[0m\u001b[0;34m\u001b[0m\u001b[0;34m\u001b[0m\u001b[0m\n\u001b[1;32m    544\u001b[0m     \u001b[0mextobj\u001b[0m \u001b[0;34m=\u001b[0m \u001b[0mget_linalg_error_extobj\u001b[0m\u001b[0;34m(\u001b[0m\u001b[0m_raise_linalgerror_singular\u001b[0m\u001b[0;34m)\u001b[0m\u001b[0;34m\u001b[0m\u001b[0;34m\u001b[0m\u001b[0m\n\u001b[0;32m--> 545\u001b[0;31m     \u001b[0mainv\u001b[0m \u001b[0;34m=\u001b[0m \u001b[0m_umath_linalg\u001b[0m\u001b[0;34m.\u001b[0m\u001b[0minv\u001b[0m\u001b[0;34m(\u001b[0m\u001b[0ma\u001b[0m\u001b[0;34m,\u001b[0m \u001b[0msignature\u001b[0m\u001b[0;34m=\u001b[0m\u001b[0msignature\u001b[0m\u001b[0;34m,\u001b[0m \u001b[0mextobj\u001b[0m\u001b[0;34m=\u001b[0m\u001b[0mextobj\u001b[0m\u001b[0;34m)\u001b[0m\u001b[0;34m\u001b[0m\u001b[0;34m\u001b[0m\u001b[0m\n\u001b[0m\u001b[1;32m    546\u001b[0m     \u001b[0;32mreturn\u001b[0m \u001b[0mwrap\u001b[0m\u001b[0;34m(\u001b[0m\u001b[0mainv\u001b[0m\u001b[0;34m.\u001b[0m\u001b[0mastype\u001b[0m\u001b[0;34m(\u001b[0m\u001b[0mresult_t\u001b[0m\u001b[0;34m,\u001b[0m \u001b[0mcopy\u001b[0m\u001b[0;34m=\u001b[0m\u001b[0;32mFalse\u001b[0m\u001b[0;34m)\u001b[0m\u001b[0;34m)\u001b[0m\u001b[0;34m\u001b[0m\u001b[0;34m\u001b[0m\u001b[0m\n\u001b[1;32m    547\u001b[0m \u001b[0;34m\u001b[0m\u001b[0m\n",
      "\u001b[0;32m/opt/conda/lib/python3.9/site-packages/numpy/linalg/linalg.py\u001b[0m in \u001b[0;36m_raise_linalgerror_singular\u001b[0;34m(err, flag)\u001b[0m\n\u001b[1;32m     86\u001b[0m \u001b[0;34m\u001b[0m\u001b[0m\n\u001b[1;32m     87\u001b[0m \u001b[0;32mdef\u001b[0m \u001b[0m_raise_linalgerror_singular\u001b[0m\u001b[0;34m(\u001b[0m\u001b[0merr\u001b[0m\u001b[0;34m,\u001b[0m \u001b[0mflag\u001b[0m\u001b[0;34m)\u001b[0m\u001b[0;34m:\u001b[0m\u001b[0;34m\u001b[0m\u001b[0;34m\u001b[0m\u001b[0m\n\u001b[0;32m---> 88\u001b[0;31m     \u001b[0;32mraise\u001b[0m \u001b[0mLinAlgError\u001b[0m\u001b[0;34m(\u001b[0m\u001b[0;34m\"Singular matrix\"\u001b[0m\u001b[0;34m)\u001b[0m\u001b[0;34m\u001b[0m\u001b[0;34m\u001b[0m\u001b[0m\n\u001b[0m\u001b[1;32m     89\u001b[0m \u001b[0;34m\u001b[0m\u001b[0m\n\u001b[1;32m     90\u001b[0m \u001b[0;32mdef\u001b[0m \u001b[0m_raise_linalgerror_nonposdef\u001b[0m\u001b[0;34m(\u001b[0m\u001b[0merr\u001b[0m\u001b[0;34m,\u001b[0m \u001b[0mflag\u001b[0m\u001b[0;34m)\u001b[0m\u001b[0;34m:\u001b[0m\u001b[0;34m\u001b[0m\u001b[0;34m\u001b[0m\u001b[0m\n",
      "\u001b[0;31mLinAlgError\u001b[0m: Singular matrix"
     ]
    }
   ],
   "source": [
    "#Essai de calcul d'Inverse de Matrice quand le déterminant = 0\n",
    "\n",
    "#Matrice D\n",
    "\n",
    "D = np.ones((3,5))\n",
    "D[1,1]=0\n",
    "\n",
    "#Transposé de D:\n",
    "\n",
    "print (\"D.T = \\n{}\". format(D.T))\n",
    "\n",
    "#Matrice de C\n",
    "\n",
    "C = np.zeros((3,5))\n",
    "\n",
    "C[:,0] = 3\n",
    "C[0,1] = 2\n",
    "C[1,1] = 3\n",
    "C[2,1] = 4\n",
    "\n",
    "C = C-1\n",
    "\n",
    "print(\"C = \\n{}\".format(C))\n",
    "\n",
    "\n",
    "#det(D.T*C) - possible car matrice carré\n",
    "\n",
    "print(\"Le déterminant de D.T*C est det(D.T * C) = {}\".format(np.linalg.det(D.T@C)))\n",
    "\n",
    "\n",
    "print(\"Inverse de det(D.T * C) = {}\".format(np.linalg.inv(D.T@C))) \n",
    "#Matrice singulière = pas inversible"
   ]
  },
  {
   "cell_type": "markdown",
   "id": "9ba07c82",
   "metadata": {},
   "source": [
    "#### Question 3 : \n",
    "Calculer les déterminants $\\det{(A)}$ et $\\det{(A^{-1})}$ (où $A^{-1}$ est la matrice inverse de $A$). Que pouvez-vous dire de ces 2 valeurs et qui correspond à une propriété du déterminant?"
   ]
  },
  {
   "cell_type": "code",
   "execution_count": 123,
   "id": "9a84468a",
   "metadata": {},
   "outputs": [
    {
     "name": "stdout",
     "output_type": "stream",
     "text": [
      "[[1 0 0 0 0]\n",
      " [0 2 0 0 0]\n",
      " [0 0 3 4 0]\n",
      " [0 0 0 4 0]\n",
      " [0 0 0 0 5]]\n",
      "Le déterminant de A est det(A) = 119.99999999999997\n",
      "L'inverse de A = \n",
      "[[ 1.          0.          0.          0.          0.        ]\n",
      " [ 0.          0.5         0.          0.          0.        ]\n",
      " [ 0.          0.          0.33333333 -0.33333333  0.        ]\n",
      " [ 0.          0.          0.          0.25        0.        ]\n",
      " [ 0.          0.          0.          0.          0.2       ]]\n",
      "Le déterminant de l'inverse de A est det(A^-1) = 0.008333333333333335\n",
      "det(A^-1)*det(A) = 1.0\n"
     ]
    }
   ],
   "source": [
    "#Matrice A\n",
    "\n",
    "u=np.array([1,2,3,4,5])\n",
    "A = np.diag(u)\n",
    "A[2,3]=4\n",
    "print(A)\n",
    "\n",
    "#det(A)\n",
    "print(\"Le déterminant de A est det(A) = {}\".format(np.linalg.det(A)))\n",
    "\n",
    "#Comme le déterminant est pas égale à 0, nous pouvons calculer l'inverse de A\n",
    "\n",
    "inv_A = np.linalg.inv(A)\n",
    "print(\"L'inverse de A = \\n{}\".format(np.linalg.inv(A)))\n",
    "\n",
    "#déterminant de l'inverse de A\n",
    "\n",
    "print(\"Le déterminant de l'inverse de A est det(A^-1) = {}\".format(np.linalg.det(inv_A)))\n",
    "\n",
    "#Tles déterminants sont toues les 2 positives\n",
    "#det(A*A^-1) = det(I)\n",
    "#det(I) = 1\n",
    "#det(A) * det(A^-1) = 1\n",
    "\n",
    "print(\"det(A^-1)*det(A) = {}\".format(np.dot(np.linalg.det(inv_A),np.linalg.det(A))))"
   ]
  },
  {
   "cell_type": "markdown",
   "id": "59138672",
   "metadata": {},
   "source": [
    "#### Question 4 : \n",
    "Résoudre le système linéaire $AX=Y_1$ avec le vecteur second membre $Y_1=[5,-4,3,-2,1]$ et vérifier que la solution trouvée numériquement est correcte."
   ]
  },
  {
   "cell_type": "code",
   "execution_count": 130,
   "id": "7a28afc8",
   "metadata": {},
   "outputs": [
    {
     "name": "stdout",
     "output_type": "stream",
     "text": [
      "A = \n",
      "[[1 0 0 0 0]\n",
      " [0 2 0 0 0]\n",
      " [0 0 3 4 0]\n",
      " [0 0 0 4 0]\n",
      " [0 0 0 0 5]]\n",
      "Y1 = \n",
      "[ 5 -4  3 -2  1]\n",
      "x = la solution = [ 5.         -2.          1.66666667 -0.5         0.2       ]\n",
      "A*x = [ 5. -4.  3. -2.  1.]\n"
     ]
    }
   ],
   "source": [
    "#Matrice A\n",
    "\n",
    "u=np.array([1,2,3,4,5])\n",
    "A = np.diag(u)\n",
    "A[2,3]=4\n",
    "print(\"A = \\n{}\".format(A))\n",
    "\n",
    "#Matrice Y1\n",
    "Y1=np.array([5,-4,3,-2,1])\n",
    "print(\"Y1 = \\n{}\".format(Y1))\n",
    "\n",
    "# Résolution du système Ax = b : détermination du vecteur x\n",
    "\n",
    "x = np.linalg.solve(A, Y1)\n",
    "print(\"x = la solution = {}\".format(x))\n",
    "\n",
    "# Vérification : on a bien Ax = Y1\n",
    "print(\"A*x = {}\".format(np.dot(A, x)))"
   ]
  },
  {
   "cell_type": "markdown",
   "id": "81f956ef",
   "metadata": {},
   "source": [
    "#### Question 5 : \n",
    "Résoudre le système linéaire $AX=Y_2$ où $Y_2$ est (mathématiquement) tel que $^t Y_2$ est la première ligne de la matrice $C$. Puis, vérifier que la solution trouvée numériquement est correcte."
   ]
  },
  {
   "cell_type": "code",
   "execution_count": 140,
   "id": "3e73a5bd",
   "metadata": {},
   "outputs": [
    {
     "name": "stdout",
     "output_type": "stream",
     "text": [
      "A = \n",
      "[[1 0 0 0 0]\n",
      " [0 2 0 0 0]\n",
      " [0 0 3 4 0]\n",
      " [0 0 0 4 0]\n",
      " [0 0 0 0 5]]\n",
      "Y2 = \n",
      "[ 2  1 -1 -1 -1]\n",
      "x = la solution = [ 2.    0.5   0.   -0.25 -0.2 ]\n",
      "A*x = [ 2.  1. -1. -1. -1.]\n"
     ]
    }
   ],
   "source": [
    "#Matrice A\n",
    "\n",
    "u=np.array([1,2,3,4,5])\n",
    "A = np.diag(u)\n",
    "A[2,3]=4\n",
    "print(\"A = \\n{}\".format(A))\n",
    "\n",
    "#Matrice Y2\n",
    "#It is not necessary to have the vecteur as a colone within python, unless it's a multiplication\n",
    "#C1=np.array([[2,1,-1,-1,-1]]) for colum\n",
    "\n",
    "C1=np.array([2,1,-1,-1,-1])\n",
    "Y2=C1.T\n",
    "print(\"Y2 = \\n{}\".format(Y2))\n",
    "\n",
    "# Résolution du système Ax = b : détermination du vecteur x\n",
    "x = np.linalg.solve(A, Y2)\n",
    "print(\"x = la solution = {}\".format(x))\n",
    "\n",
    "# Vérification : on a bien Ax = Y1\n",
    "print(\"A*x = {}\".format(np.dot(A, x)))"
   ]
  },
  {
   "cell_type": "markdown",
   "id": "7013c9b6",
   "metadata": {},
   "source": [
    "# 3 - Tracé de courbes en python"
   ]
  },
  {
   "cell_type": "markdown",
   "id": "369cad2a",
   "metadata": {},
   "source": [
    "## 3.1 - Principe et exemples\n",
    "Tous les outils numériques de tracé de courbes tracent en fait une série de segments plutôt qu'une ligne continue, de manière implicite (comme sur une calculatrice) ou pas. La fonction plot de la librairie matplotlib fonctionne ainsi, comme le montrent les exemples ci-dessous."
   ]
  },
  {
   "cell_type": "code",
   "execution_count": 141,
   "id": "d26d2ff7",
   "metadata": {},
   "outputs": [
    {
     "data": {
      "image/png": "[encoded data removed]",
      "text/plain": [
       "<Figure size 432x288 with 1 Axes>"
      ]
     },
     "metadata": {
      "needs_background": "light"
     },
     "output_type": "display_data"
    }
   ],
   "source": [
    "# il faut s'assurer que vous avez bien importé le module pyplot de matplotlib\n",
    "# import matplotlib.pyplot as plt\n",
    "\n",
    "# on crée maintenant les points des segments de la courbe,\n",
    "# sous la forme d'un tableau d'abscisses\n",
    "x = np.array([1, 3, 4, 5])\n",
    "# et d'un tableau d'ordonnées (de même taille)\n",
    "y = np.array([2, 3, 5, 1])\n",
    "\n",
    "# ces deux tableaux sont donnés en argument à la fonction plot\n",
    "plt.plot(x, y)\n",
    "\n",
    "# on affiche la figure à l'ecran (pas nécessaire en notebook cependant...)\n",
    "plt.show() \n",
    "\n",
    "# Par défaut, plot trace un segment entre les points successifs."
   ]
  },
  {
   "cell_type": "code",
   "execution_count": null,
   "id": "49a8472b",
   "metadata": {},
   "outputs": [],
   "source": [
    "# le comportement par défaut de plot peut être modifié, par exemple le style de tracé :\n",
    "plt.plot(x, y, \"-o\")"
   ]
  },
  {
   "cell_type": "code",
   "execution_count": null,
   "id": "6786da5d",
   "metadata": {},
   "outputs": [],
   "source": [
    "# sans segments entre les points\n",
    "plt.plot(x, y, \"o\")"
   ]
  },
  {
   "cell_type": "code",
   "execution_count": null,
   "id": "adb8b103",
   "metadata": {},
   "outputs": [],
   "source": [
    "plt.plot(x, y, 'r', lw=3)\n",
    "# avec un titre c'est mieux\n",
    "plt.title(\"Exemple de tracé\")\n",
    "# avec des labels sur des axes\n",
    "plt.xlabel(\"abscisses x\")\n",
    "plt.ylabel(\"ordonnées y\")\n",
    "# avec la même échelle sur les deux axes\n",
    "plt.axis(\"equal\")"
   ]
  },
  {
   "cell_type": "code",
   "execution_count": null,
   "id": "18b8269a",
   "metadata": {},
   "outputs": [],
   "source": [
    "# Il est possible de superposer plusieurs courbes\n",
    "plt.plot(x, y, 'r', label=\"courbe 1\")\n",
    "plt.plot(x, y + 1, 'b', label=\"courbe 2\")\n",
    "# avec une légende \n",
    "plt.legend()\n",
    "plt.title(\"Tracé de deux courbes\")\n",
    "plt.xlabel(\"x\")\n",
    "plt.ylabel(\"y\")"
   ]
  },
  {
   "cell_type": "markdown",
   "id": "ba8a0941",
   "metadata": {},
   "source": [
    "Il existe encore de nombreuses options que vous pourrez explorer en fonction de vos besoins, par exemple avec cette documentation :\n",
    "https://courspython.com/introduction-courbes.html#\n",
    "\n",
    "## 3.2 - Tracé de fonctions\n",
    "\n",
    "Le tracé de fonctions fonctionne selon le même principe, vous devez fournir à la fonction plot des listes \n",
    "d'abscisses et d'ordonnées qu'elle se chargera d'afficher."
   ]
  },
  {
   "cell_type": "code",
   "execution_count": 4,
   "id": "9b244b86",
   "metadata": {},
   "outputs": [
    {
     "name": "stdout",
     "output_type": "stream",
     "text": [
      "Taille de x (nombre de points) = 1001\n"
     ]
    },
    {
     "data": {
      "text/plain": [
       "Text(0, 0.5, 'y')"
      ]
     },
     "execution_count": 4,
     "metadata": {},
     "output_type": "execute_result"
    },
    {
     "data": {
      "image/png": "[encoded data removed]",
      "text/plain": [
       "<Figure size 432x288 with 1 Axes>"
      ]
     },
     "metadata": {
      "needs_background": "light"
     },
     "output_type": "display_data"
    }
   ],
   "source": [
    "# Tracé sur l'intervalle [a, b]\n",
    "a = 0.001\n",
    "b = 10\n",
    "# l'intervalle est découpé en N morceaux\n",
    "N = 1000\n",
    "# et on a donc N+1 abscisses dans le vecteur x\n",
    "x = np.linspace(a, b, N+1)\n",
    "# on peut le vérifier en faisant afficher la taille de ce vecteur\n",
    "print(\"Taille de x (nombre de points) = {}\".format(len(x)))\n",
    "\n",
    "# les fonctions numpy sont \"vectorized\", càd qu'elles\n",
    "# renvoient le tableau des images des valeurs données en entrée\n",
    "y = np.exp(-1/x)/x**2\n",
    "# tracé \n",
    "plt.plot(x, y)\n",
    "# avec une légende \n",
    "plt.title(\"Fonction exemple\")\n",
    "plt.xlabel(\"x\")\n",
    "plt.ylabel(\"y\")"
   ]
  },
  {
   "cell_type": "code",
   "execution_count": null,
   "id": "7f8b95ed",
   "metadata": {},
   "outputs": [],
   "source": [
    "# il est bien sûr possible de tracer une fonction que vous avez construite vous-même\n",
    "\n",
    "# déclaration de la fonction f\n",
    "def f(t):\n",
    "    # cette fonction renvoie racine(t) si t > 0\n",
    "    # et racine(-t) si t <= 0 \n",
    "    if t > 0:\n",
    "        res = np.sqrt(t)\n",
    "    else:\n",
    "        res = np.sqrt(-t)\n",
    "    return res\n",
    "\n",
    "# dans ce cas vous ne pouvez pas directement appeler la fonction sur un vecteur, cela lève une erreur\n",
    "y = f(x)\n",
    "# comme l'indique le message ci-dessous"
   ]
  },
  {
   "cell_type": "code",
   "execution_count": null,
   "id": "aa2ceffe",
   "metadata": {},
   "outputs": [],
   "source": [
    "# une solution au problème de la cellule ci-dessus est de \"vectoriser\" f \n",
    "# pour qu'elle soit capable de prendre un vecteur en argument\n",
    "vf = np.vectorize(f)\n",
    "\n",
    "# Tracé sur l'intervalle [-1, 1]\n",
    "a = -1\n",
    "b = 1\n",
    "# l'intervalle est découpé en N morceaux\n",
    "N = 200\n",
    "x = np.linspace(a, b, N+1)\n",
    "y = vf(x)\n",
    "# tracé \n",
    "plt.plot(x, y)\n",
    "# avec une légende \n",
    "plt.title(\"Fonction utilisateur\")\n",
    "plt.xlabel(\"x\")\n",
    "plt.ylabel(\"y\")"
   ]
  },
  {
   "cell_type": "markdown",
   "id": "2225225e",
   "metadata": {},
   "source": [
    "## 3.3 -------- EXERCICE - à vous de faire\n",
    "\n",
    "Représenter \"de manière lisse\" la fonction continue définie par $f(x) = x^2*(1-x)*cos(x)$ sur l'intervalle $[-1,2]$ .\n",
    "Puis, sur le même graphe, représenter un nuage de 15 points que vous prendrez sur la courbe précédente.\n",
    "Vous ajouterez un titre, le nom des axes et une légende à votre graphe pour identifer la fonction $f$ et le nuage de point."
   ]
  },
  {
   "cell_type": "code",
   "execution_count": 33,
   "id": "6db61acb",
   "metadata": {},
   "outputs": [
    {
     "name": "stdout",
     "output_type": "stream",
     "text": [
      "Taille de x (nombre de points) = 15\n"
     ]
    },
    {
     "data": {
      "text/plain": [
       "(-1.15, 2.15, -0.22967728733100254, 1.754790423975216)"
      ]
     },
     "execution_count": 33,
     "metadata": {},
     "output_type": "execute_result"
    },
    {
     "data": {
      "image/png": "[encoded data removed]",
      "text/plain": [
       "<Figure size 432x288 with 1 Axes>"
      ]
     },
     "metadata": {
      "needs_background": "light"
     },
     "output_type": "display_data"
    }
   ],
   "source": [
    "import matplotlib.pyplot as plt\n",
    "import numpy as np\n",
    "\n",
    "# Tracé sur un intervalle [-1, 2]\n",
    "a = -1\n",
    "b = 2\n",
    "\n",
    "\n",
    "#15 = number of points or segments\n",
    "x = np.linspace(a, b, 15)\n",
    "print(\"Taille de x (nombre de points) = {}\".format(len(x)))\n",
    "\n",
    "y = (x**2)*(1-x)*np.cos(x)\n",
    "\n",
    "#tracé\n",
    "plt.plot(x,y, \"m-o\", linewidth=2, label=\"Courbe 1\")\n",
    "\n",
    "#avec une legende\n",
    "plt.legend()\n",
    "plt.title (\"Fonction f(x)\")\n",
    "plt.xlabel(\"abscisses x\")\n",
    "plt.ylabel(\"ordonnées y\")\n",
    "plt.axis(\"equal\")\n"
   ]
  }
 ],
 "metadata": {
  "kernelspec": {
   "display_name": "Python 3 (ipykernel)",
   "language": "python",
   "name": "python3"
  },
  "language_info": {
   "codemirror_mode": {
    "name": "ipython",
    "version": 3
   },
   "file_extension": ".py",
   "mimetype": "text/x-python",
   "name": "python",
   "nbconvert_exporter": "python",
   "pygments_lexer": "ipython3",
   "version": "3.9.7"
  }
 },
 "nbformat": 4,
 "nbformat_minor": 5
}
